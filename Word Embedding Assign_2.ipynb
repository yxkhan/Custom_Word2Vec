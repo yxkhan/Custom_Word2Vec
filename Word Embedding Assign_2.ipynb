{
 "cells": [
  {
   "cell_type": "code",
   "execution_count": 32,
   "id": "ff449d4d-7c3d-4094-bac0-3f531846906f",
   "metadata": {},
   "outputs": [],
   "source": [
    "import pandas as pd"
   ]
  },
  {
   "cell_type": "code",
   "execution_count": 44,
   "id": "3299b470-af4b-480e-ac05-350cdee21de7",
   "metadata": {},
   "outputs": [],
   "source": [
    "data=pd.read_csv(r\"C:\\Users\\Yaseen Khan\\Documents\\Data Sceince\\DL - NLP GenAI\\Assignments\\Amazon_Reviews_train.csv\",names=[\"number\",'title',\"review\"])"
   ]
  },
  {
   "cell_type": "code",
   "execution_count": 34,
   "id": "48a33f51-f567-4079-be2a-5fe6a9f272c8",
   "metadata": {},
   "outputs": [
    {
     "data": {
      "text/html": [
       "<div>\n",
       "<style scoped>\n",
       "    .dataframe tbody tr th:only-of-type {\n",
       "        vertical-align: middle;\n",
       "    }\n",
       "\n",
       "    .dataframe tbody tr th {\n",
       "        vertical-align: top;\n",
       "    }\n",
       "\n",
       "    .dataframe thead th {\n",
       "        text-align: right;\n",
       "    }\n",
       "</style>\n",
       "<table border=\"1\" class=\"dataframe\">\n",
       "  <thead>\n",
       "    <tr style=\"text-align: right;\">\n",
       "      <th></th>\n",
       "      <th>number</th>\n",
       "      <th>title</th>\n",
       "      <th>review</th>\n",
       "    </tr>\n",
       "  </thead>\n",
       "  <tbody>\n",
       "    <tr>\n",
       "      <th>0</th>\n",
       "      <td>2</td>\n",
       "      <td>Stuning even for the non-gamer</td>\n",
       "      <td>This sound track was beautiful! It paints the ...</td>\n",
       "    </tr>\n",
       "    <tr>\n",
       "      <th>1</th>\n",
       "      <td>2</td>\n",
       "      <td>The best soundtrack ever to anything.</td>\n",
       "      <td>I'm reading a lot of reviews saying that this ...</td>\n",
       "    </tr>\n",
       "    <tr>\n",
       "      <th>2</th>\n",
       "      <td>2</td>\n",
       "      <td>Amazing!</td>\n",
       "      <td>This soundtrack is my favorite music of all ti...</td>\n",
       "    </tr>\n",
       "    <tr>\n",
       "      <th>3</th>\n",
       "      <td>2</td>\n",
       "      <td>Excellent Soundtrack</td>\n",
       "      <td>I truly like this soundtrack and I enjoy video...</td>\n",
       "    </tr>\n",
       "    <tr>\n",
       "      <th>4</th>\n",
       "      <td>2</td>\n",
       "      <td>Remember, Pull Your Jaw Off The Floor After He...</td>\n",
       "      <td>If you've played the game, you know how divine...</td>\n",
       "    </tr>\n",
       "    <tr>\n",
       "      <th>...</th>\n",
       "      <td>...</td>\n",
       "      <td>...</td>\n",
       "      <td>...</td>\n",
       "    </tr>\n",
       "    <tr>\n",
       "      <th>3599995</th>\n",
       "      <td>1</td>\n",
       "      <td>Don't do it!!</td>\n",
       "      <td>The high chair looks great when it first comes...</td>\n",
       "    </tr>\n",
       "    <tr>\n",
       "      <th>3599996</th>\n",
       "      <td>1</td>\n",
       "      <td>Looks nice, low functionality</td>\n",
       "      <td>I have used this highchair for 2 kids now and ...</td>\n",
       "    </tr>\n",
       "    <tr>\n",
       "      <th>3599997</th>\n",
       "      <td>1</td>\n",
       "      <td>compact, but hard to clean</td>\n",
       "      <td>We have a small house, and really wanted two o...</td>\n",
       "    </tr>\n",
       "    <tr>\n",
       "      <th>3599998</th>\n",
       "      <td>1</td>\n",
       "      <td>what is it saying?</td>\n",
       "      <td>not sure what this book is supposed to be. It ...</td>\n",
       "    </tr>\n",
       "    <tr>\n",
       "      <th>3599999</th>\n",
       "      <td>2</td>\n",
       "      <td>Makes My Blood Run Red-White-And-Blue</td>\n",
       "      <td>I agree that every American should read this b...</td>\n",
       "    </tr>\n",
       "  </tbody>\n",
       "</table>\n",
       "<p>3600000 rows × 3 columns</p>\n",
       "</div>"
      ],
      "text/plain": [
       "         number                                              title  \\\n",
       "0             2                     Stuning even for the non-gamer   \n",
       "1             2              The best soundtrack ever to anything.   \n",
       "2             2                                           Amazing!   \n",
       "3             2                               Excellent Soundtrack   \n",
       "4             2  Remember, Pull Your Jaw Off The Floor After He...   \n",
       "...         ...                                                ...   \n",
       "3599995       1                                      Don't do it!!   \n",
       "3599996       1                      Looks nice, low functionality   \n",
       "3599997       1                         compact, but hard to clean   \n",
       "3599998       1                                 what is it saying?   \n",
       "3599999       2              Makes My Blood Run Red-White-And-Blue   \n",
       "\n",
       "                                                    review  \n",
       "0        This sound track was beautiful! It paints the ...  \n",
       "1        I'm reading a lot of reviews saying that this ...  \n",
       "2        This soundtrack is my favorite music of all ti...  \n",
       "3        I truly like this soundtrack and I enjoy video...  \n",
       "4        If you've played the game, you know how divine...  \n",
       "...                                                    ...  \n",
       "3599995  The high chair looks great when it first comes...  \n",
       "3599996  I have used this highchair for 2 kids now and ...  \n",
       "3599997  We have a small house, and really wanted two o...  \n",
       "3599998  not sure what this book is supposed to be. It ...  \n",
       "3599999  I agree that every American should read this b...  \n",
       "\n",
       "[3600000 rows x 3 columns]"
      ]
     },
     "execution_count": 34,
     "metadata": {},
     "output_type": "execute_result"
    }
   ],
   "source": [
    "data"
   ]
  },
  {
   "cell_type": "code",
   "execution_count": 45,
   "id": "0c388e89-00e2-4ae2-a6b5-e6df34469e23",
   "metadata": {},
   "outputs": [
    {
     "name": "stdout",
     "output_type": "stream",
     "text": [
      "<class 'pandas.core.frame.DataFrame'>\n"
     ]
    }
   ],
   "source": [
    "print(type(data))"
   ]
  },
  {
   "cell_type": "markdown",
   "id": "e26535e3-37ef-4d86-b619-70a244d0602d",
   "metadata": {},
   "source": [
    "##### Trimming only 100000 rows out of 3600000 as my system is hanging for the entire dataset (Huge dataset)"
   ]
  },
  {
   "cell_type": "code",
   "execution_count": 80,
   "id": "32671c28-9356-40dc-b01a-a145127b3e02",
   "metadata": {},
   "outputs": [],
   "source": [
    "df=data.iloc[:100000,:]"
   ]
  },
  {
   "cell_type": "code",
   "execution_count": 47,
   "id": "6a87b4e1-709e-4c2a-9711-5c8adb950995",
   "metadata": {},
   "outputs": [
    {
     "data": {
      "text/html": [
       "<div>\n",
       "<style scoped>\n",
       "    .dataframe tbody tr th:only-of-type {\n",
       "        vertical-align: middle;\n",
       "    }\n",
       "\n",
       "    .dataframe tbody tr th {\n",
       "        vertical-align: top;\n",
       "    }\n",
       "\n",
       "    .dataframe thead th {\n",
       "        text-align: right;\n",
       "    }\n",
       "</style>\n",
       "<table border=\"1\" class=\"dataframe\">\n",
       "  <thead>\n",
       "    <tr style=\"text-align: right;\">\n",
       "      <th></th>\n",
       "      <th>number</th>\n",
       "      <th>title</th>\n",
       "      <th>review</th>\n",
       "    </tr>\n",
       "  </thead>\n",
       "  <tbody>\n",
       "    <tr>\n",
       "      <th>0</th>\n",
       "      <td>2</td>\n",
       "      <td>Stuning even for the non-gamer</td>\n",
       "      <td>This sound track was beautiful! It paints the ...</td>\n",
       "    </tr>\n",
       "    <tr>\n",
       "      <th>1</th>\n",
       "      <td>2</td>\n",
       "      <td>The best soundtrack ever to anything.</td>\n",
       "      <td>I'm reading a lot of reviews saying that this ...</td>\n",
       "    </tr>\n",
       "    <tr>\n",
       "      <th>2</th>\n",
       "      <td>2</td>\n",
       "      <td>Amazing!</td>\n",
       "      <td>This soundtrack is my favorite music of all ti...</td>\n",
       "    </tr>\n",
       "    <tr>\n",
       "      <th>3</th>\n",
       "      <td>2</td>\n",
       "      <td>Excellent Soundtrack</td>\n",
       "      <td>I truly like this soundtrack and I enjoy video...</td>\n",
       "    </tr>\n",
       "    <tr>\n",
       "      <th>4</th>\n",
       "      <td>2</td>\n",
       "      <td>Remember, Pull Your Jaw Off The Floor After He...</td>\n",
       "      <td>If you've played the game, you know how divine...</td>\n",
       "    </tr>\n",
       "  </tbody>\n",
       "</table>\n",
       "</div>"
      ],
      "text/plain": [
       "   number                                              title  \\\n",
       "0       2                     Stuning even for the non-gamer   \n",
       "1       2              The best soundtrack ever to anything.   \n",
       "2       2                                           Amazing!   \n",
       "3       2                               Excellent Soundtrack   \n",
       "4       2  Remember, Pull Your Jaw Off The Floor After He...   \n",
       "\n",
       "                                              review  \n",
       "0  This sound track was beautiful! It paints the ...  \n",
       "1  I'm reading a lot of reviews saying that this ...  \n",
       "2  This soundtrack is my favorite music of all ti...  \n",
       "3  I truly like this soundtrack and I enjoy video...  \n",
       "4  If you've played the game, you know how divine...  "
      ]
     },
     "execution_count": 47,
     "metadata": {},
     "output_type": "execute_result"
    }
   ],
   "source": [
    "df.head()"
   ]
  },
  {
   "cell_type": "code",
   "execution_count": null,
   "id": "ede71fbb-75f3-4d12-b773-e3ea10bae0a7",
   "metadata": {},
   "outputs": [],
   "source": []
  },
  {
   "cell_type": "markdown",
   "id": "22c4fba0-2891-4b49-b2e3-f22e90f92a91",
   "metadata": {},
   "source": [
    "#### Creating the Corpus out of the data"
   ]
  },
  {
   "cell_type": "code",
   "execution_count": 81,
   "id": "b973ca37-1a16-4339-8275-39a5abf6f1db",
   "metadata": {},
   "outputs": [],
   "source": [
    "corpus = '. '.join(df['review'].dropna())  #creating our corpus by joining the reviews"
   ]
  },
  {
   "cell_type": "code",
   "execution_count": 82,
   "id": "d50c9499-e9e8-449e-b672-718694d5b1e6",
   "metadata": {},
   "outputs": [
    {
     "data": {
      "text/plain": [
       "'This sound track was beautiful! It paints the senery in your mind so well I would recomend it even to people who hate vid. game music! I have played the game Chrono Cross but out of all of the games I have ever played it has the best music! It backs away from crude keyboarding and takes a fresher step with grate guitars and soulful orchestras. It would impress anyone who cares to listen! ^_^. I\\'m reading a lot of reviews saying that this is the best \\'game soundtrack\\' and I figured that I\\'d write a review to disagree a bit. This in my opinino is Yasunori Mitsuda\\'s ultimate masterpiece. The music is timeless and I\\'m been listening to it for years now and its beauty simply refuses to fade.The price tag on this is pretty staggering I must say, but if you are going to buy any cd for this much money, this is the only one that I feel would be worth every penny.. This soundtrack is my favorite music of all time, hands down. The intense sadness of \"Prisoners of Fate\" (which means all the more i'"
      ]
     },
     "execution_count": 82,
     "metadata": {},
     "output_type": "execute_result"
    }
   ],
   "source": [
    "corpus[:1000]"
   ]
  },
  {
   "cell_type": "code",
   "execution_count": null,
   "id": "822ef3af-c5f4-49a9-b869-662ae047840b",
   "metadata": {},
   "outputs": [],
   "source": []
  },
  {
   "cell_type": "markdown",
   "id": "e0198815-7338-4af4-b5ad-7dc9b6dd85a0",
   "metadata": {},
   "source": [
    "##### Removing Special characters if any"
   ]
  },
  {
   "cell_type": "code",
   "execution_count": 83,
   "id": "ec2c810c-7655-418e-be0b-12c3874b0142",
   "metadata": {},
   "outputs": [],
   "source": [
    "corpus=re.sub(r'[^a-zA-Z0-9,\\.\\s]', '', corpus).strip()  #To remove special characters excluding (. and ,)\n",
    "corpus = re.sub(r'\\s+\\.', '.', corpus)  #Remove spaces before periods\n",
    "corpus = re.sub(r'\\.{2,}', '.', corpus)  #Ensure only one period at the end of a sentence\n",
    "corpus = re.sub(r'\\.(?=\\S)', '. ', corpus)  #Add a space after periods between sentences"
   ]
  },
  {
   "cell_type": "code",
   "execution_count": 84,
   "id": "fc7f8a8b-b2ab-4411-ae81-c1174c406db5",
   "metadata": {},
   "outputs": [
    {
     "data": {
      "text/plain": [
       "'This sound track was beautiful It paints the senery in your mind so well I would recomend it even to people who hate vid. game music I have played the game Chrono Cross but out of all of the games I have ever played it has the best music It backs away from crude keyboarding and takes a fresher step with grate guitars and soulful orchestras. It would impress anyone who cares to listen. Im reading a lot of reviews saying that this is the best game soundtrack and I figured that Id write a review to disagree a bit. This in my opinino is Yasunori Mitsudas ultimate masterpiece. The music is timeless and Im been listening to it for years now and its beauty simply refuses to fade. The price tag on this is pretty staggering I must say, but if you are going to buy any cd for this much money, this is the only one that I feel would be worth every penny. This soundtrack is my favorite music of all time, hands down. The intense sadness of Prisoners of Fate which means all the more if youve played th'"
      ]
     },
     "execution_count": 84,
     "metadata": {},
     "output_type": "execute_result"
    }
   ],
   "source": [
    "corpus[:1000]"
   ]
  },
  {
   "cell_type": "code",
   "execution_count": null,
   "id": "f525773e-2449-4b57-b3e4-618323a15311",
   "metadata": {},
   "outputs": [],
   "source": []
  },
  {
   "cell_type": "markdown",
   "id": "f32c6e81-4414-448d-9b5b-041a9adaa8ee",
   "metadata": {},
   "source": [
    "#### Sentence Tokenize"
   ]
  },
  {
   "cell_type": "code",
   "execution_count": 28,
   "id": "a1eb8dc6-69dd-4490-8fd8-8de3e42caae9",
   "metadata": {},
   "outputs": [],
   "source": [
    "from nltk import sent_tokenize"
   ]
  },
  {
   "cell_type": "code",
   "execution_count": 85,
   "id": "4dcd2da3-4cf6-45c9-a15b-d3c9be085e9f",
   "metadata": {},
   "outputs": [],
   "source": [
    "Sent_token = sent_tokenize(corpus)"
   ]
  },
  {
   "cell_type": "code",
   "execution_count": 86,
   "id": "304d61f8-499e-4b69-83f4-b82c9d69295a",
   "metadata": {},
   "outputs": [
    {
     "data": {
      "text/plain": [
       "['This sound track was beautiful It paints the senery in your mind so well I would recomend it even to people who hate vid.',\n",
       " 'game music I have played the game Chrono Cross but out of all of the games I have ever played it has the best music It backs away from crude keyboarding and takes a fresher step with grate guitars and soulful orchestras.',\n",
       " 'It would impress anyone who cares to listen.',\n",
       " 'Im reading a lot of reviews saying that this is the best game soundtrack and I figured that Id write a review to disagree a bit.',\n",
       " 'This in my opinino is Yasunori Mitsudas ultimate masterpiece.',\n",
       " 'The music is timeless and Im been listening to it for years now and its beauty simply refuses to fade.',\n",
       " 'The price tag on this is pretty staggering I must say, but if you are going to buy any cd for this much money, this is the only one that I feel would be worth every penny.',\n",
       " 'This soundtrack is my favorite music of all time, hands down.',\n",
       " 'The intense sadness of Prisoners of Fate which means all the more if youve played the game and the hope in A Distant Promise and Girl who Stole the Star have been an important inspiration to me personally throughout my teen years.',\n",
       " 'The higher energy tracks like Chrono Cross  Times Scar, Time of the Dreamwatch, and Chronomantique indefinably remeniscent of Chrono Trigger are all absolutely superb as well.',\n",
       " 'This soundtrack is amazing music, probably the best of this composers work I havent heard the Xenogears soundtrack, so I cant say for sure, and even if youve never played the game, it would be worth twice the price to buy it.',\n",
       " 'I wish I could give it 6 stars.',\n",
       " 'I truly like this soundtrack and I enjoy video game music.',\n",
       " 'I have played this game and most of the music on here I enjoy and its truly relaxing and peaceful.',\n",
       " 'On disk one.',\n",
       " 'my favorites are Scars Of Time, Between Life and Death, Forest Of Illusion, Fortress of Ancient Dragons, Lost Fragment, and Drowned Valley.',\n",
       " 'Disk Two The Draggons, Galdorb  Home, Chronomantique, Prisoners of Fate, Gale, and my girlfriend likes ZelbessDisk Three The best of the three.',\n",
       " 'Garden Of God, Chronopolis, Fates, Jellyfish sea, Burning Orphange, Dragons Prayer, Tower Of Stars, Dragon God, and Radical Dreamers  Unstealable Jewel.',\n",
       " 'Overall, this is a excellent soundtrack and should be brought by those that like video game music.',\n",
       " 'Xander Cross.',\n",
       " 'If youve played the game, you know how divine the music is Every single song tells a story of the game, its that good The greatest songs are without a doubt, Chrono Cross Times Scar, Magical Dreamers The Wind, The Stars, and the Sea and Radical Dreamers Unstolen Jewel.',\n",
       " 'Translation varies This music is perfect if you ask me, the best it can be.',\n",
       " 'Yasunori Mitsuda just poured his heart on and wrote it down on paper.',\n",
       " 'I am quite sure any of you actually taking the time to read this have played the game at least once, and heard at least a few of the tracks here.',\n",
       " 'And whether you were aware of it or not, Mitsudas music contributed greatly to the mood of every single minute of the whole game.',\n",
       " 'Composed of 3 CDs and quite a few songs I havent an exact count, all of which are heartrendering and impressively remarkable, this soundtrack is one I assure you you will not forget.',\n",
       " 'It has everything for every listener  from fastpaced and energetic Dancing the Tokage or Termina Home, to slower and more haunting Dragon God, to purely beautifully composed Times Scar, to even some fantastic vocals Radical Dreamers.',\n",
       " 'This is one of the best videogame soundtracks out there, and surely Mitsudas best ever.',\n",
       " 'This is a selfpublished book, and if you want to know whyread a few paragraphs Those 5 star reviews must have been written by Ms. Haddons family and friendsor perhaps, by herself I cant imagine anyone reading the whole thingI spent an evening with the book and a friend and we were in hysterics reading bits and pieces of it to one another.',\n",
       " 'It is most definitely bad enough to be entered into some kind of a worst book contest.',\n",
       " 'I cant believe Amazon even sells this kind of thing.',\n",
       " 'Maybe I can offer them my 8th grade term paper on To Kill a Mockingbirda book I am quite sure Ms. Haddon never heard of.',\n",
       " 'Anyway, unless you are in a mood to send a book to someone as a jokestay far, far away from this one.',\n",
       " 'I loved Whisper of the wicked saints.',\n",
       " 'The story was amazing and I was pleasantly surprised at the changes in the book.',\n",
       " 'I am not normaly someone who is into romance novels, but the world was raving about this book and so I bought it.',\n",
       " 'I loved it  This is a brilliant story because it is so true.',\n",
       " 'This book was so wonderful that I have told all of my friends to read it.',\n",
       " 'It is not a typical romance, it is so much more.',\n",
       " 'Not reading this book is a crime, becuase you are missing out on a heart warming story.',\n",
       " 'I just finished reading Whisper of the Wicked saints.',\n",
       " 'I fell in love with the caracters.',\n",
       " 'I expected an average romance read, but instead I found one of my favorite books of all time.',\n",
       " 'Just when I thought I could predict the outcome I was shocked  The writting was so descriptive that my heart broke when Julias did and I felt as if I was there with them instead of just a distant reader.',\n",
       " 'If you are a lover of romance novels then this is a must read.',\n",
       " 'Dont let the cover fool you this book is spectacular.',\n",
       " 'This was a easy to read book that made me want to keep reading on and on, not easy to put down.',\n",
       " 'It left me wanting to read the follow on, which I hope is coming soon.',\n",
       " 'I used to read a lot but have gotten away from it.',\n",
       " 'This book made me want to read again.',\n",
       " 'Very enjoyable.',\n",
       " 'A complete waste of time.',\n",
       " 'Typographical errors, poor grammar, and a totally pathetic plot add up to absolutely nothing.',\n",
       " 'Im embarrassed for this author and very disappointed I actually paid for this book.',\n",
       " 'This was a great book,I just could not put it down,and could not read it fast enough.',\n",
       " 'Boy what a book the twist and turns in this just keeps you guessing and wanting to know what is going to happen next.',\n",
       " 'This book makes you fall in love and can heat you up,it can also make you so angery.',\n",
       " 'this book can make you go throu several of your emotions.',\n",
       " 'This is a quick read romance.',\n",
       " 'It is something that you will want to end your day off with if you read at night.',\n",
       " 'I thought this book was brilliant, but yet realistic.',\n",
       " 'It showed me that to error is human.',\n",
       " 'I loved the fact that this writer showed the loving side of God and not the revengeful side of him.',\n",
       " 'I loved how it twisted and turned and I could not put it down.',\n",
       " 'I also loved The glass castle.',\n",
       " 'I guess you have to be a romance novel lover for this one, and not a very discerning one.',\n",
       " 'All others beware It is absolute drivel.',\n",
       " 'I figured I was in trouble when a typo is prominently featured on the back cover, but the first page of the book removed all doubt.',\n",
       " 'Wait  maybe Im missing the point.',\n",
       " 'A quick reread of the beginning now makes it clear.',\n",
       " 'This has to be an intentional churning of overheated prose for satiric purposes.',\n",
       " 'Phew, so glad I didnt waste 10.',\n",
       " '95 after all.',\n",
       " 'I feel I have to write to keep others from wasting their money.',\n",
       " 'This book seems to have been written by a 7th grader with poor grammatical skills for her age As another reviewer points out, there is a misspelling on the cover, and I believe there is at least one per chapter.',\n",
       " 'For example, it was mentioned twice that she had a lean on her house.',\n",
       " 'I was so distracted by the poor writing and weak plot, that I decided to read with a pencil in hand to mark all of the horrible grammar and spelling.',\n",
       " 'Please dont waste your money.',\n",
       " 'I too, believe that the good reviews must have been written by the authors relatives.',\n",
       " 'I will not put much faith in the reviews from now on.',\n",
       " 'Its glaringly obvious that all of the glowing reviews have been written by the same person, perhaps the author herself.',\n",
       " 'They all have the same misspellings and poor sentence structure that is featured in the book.',\n",
       " 'Who made Veronica Haddon think she is an author.',\n",
       " 'When you hear folks say that they dont make em like that anymore, they might be talking about BY THE SEA.',\n",
       " 'This is a very cool story about a young Cuban girl searching for idenity who stumbles into a coastal resort kitchen gig with a zen motorcycle maintenance man, three hysterical Italian chefs and a Latino fireballing right handed pitcher who plays on the team sponsored by the resorts owner.',\n",
       " 'As is often the case she finds herself through honest, often comical but always emotional, interaction with this sizzling roster of players.',\n",
       " 'With the perfect mix of special effects, that salsa sound and flashbacks, BY THE SEA, gets 4 BIG stars from me.',\n",
       " 'After I had a DVT my doctor required me to wear compression stockings.',\n",
       " 'I wore ugly white TED hose and yucky thick brown stockings.',\n",
       " 'Then I found Jobst UltraSheer.',\n",
       " 'They gave me the compression I needed 1520, but looked like regular pantyhose.',\n",
       " 'Even though my blood clot has been gone for 4 years, I still buy these to wear as support stockings because they make my legs feel so nice.',\n",
       " 'Note, I have problems with the rubberized tops rolling down my thigh.',\n",
       " 'I tried the Jobst adhesive, but I hated having my skin pulled all day.',\n",
       " 'I bought an inexpensive garter belt and it works fine and helps keep the stockings from rolling.',\n",
       " 'Excellent product.',\n",
       " 'However, they are very difficult to get on for older people.',\n",
       " 'I feel like Ive had a full day workout after getting them on.',\n",
       " 'Also, as the day wears on, they begin to roll down from the top and create a very deep ridge in the skin.',\n",
       " 'I have to wear them, so if those two difficulties could be addressed it would be such a help.',\n",
       " 'sizes are much smaller than what is recomended in the chart.',\n",
       " 'I tried to put it and sheer it.',\n",
       " 'I guess you should not buy this item in the internet.',\n",
       " 'it is better to go to the store and check it.',\n",
       " 'This model may be ok for sedentary types, but Im active and get around alot in my job  consistently found these stockings rolled up down by my ankles Not Good Solution go with the standard compression stocking, 2030, stock 114622.',\n",
       " 'Excellent support, stays up and gives me what I need.',\n",
       " 'Both pair of these also tore as I struggled to pull them up all the time.',\n",
       " 'Good riddancebad investment.',\n",
       " 'I thought it was funny that I bought this product without knowing it was a mix.',\n",
       " 'I read the header very quickly and just thought it was packaged cookies.',\n",
       " 'But no, it is cookie MIX and I guess I should have noticed that since it is right in the title.',\n",
       " 'This is the first time I have ever tried baking with a cookie mix.',\n",
       " 'If you are used to the convenience of the cookie dough that you buy wrapped up in plastic logs then you might be in for a bit of a surprise.',\n",
       " 'Mixing up the dough can get VERY messy it is extremely sticky.',\n",
       " 'However, with a cookie mix like this you have a lot of flexibility in the ratio of ingredients I like to add some extra butter to make the baked cookies more chewy.',\n",
       " 'Also, this mix has really large chocolate chips in itI love that.',\n",
       " 'I removed a star for the addition of natural flavors in the mix.',\n",
       " 'Rather than scratches and insect droppings, this one has random pixelations combined with muddy light and vague image resolution.',\n",
       " 'Probably the cue should have been the packaging is straight out of your street corner bootleg dealer.',\n",
       " 'If youve ever seen a reasonably good condition film copy, you know the defining visuals of his film are the crystal clear lighting contrasts in black and white.',\n",
       " 'The surrounding countryside and old home scenes are set with early morning ground mists or the haze of memory while the events on the bridge and in the water are bright, clear, and immediate.',\n",
       " 'Here everything is dull, dark, and clouded.',\n",
       " 'Or, if you remember the timbre and enunciation of Captains commands, so are the visuals.',\n",
       " 'After that, it is hard to believe this award winning, critically acclaimed films best presentation is on YOUTUBE.',\n",
       " 'Somewhere out there is a DVD that comes up to the standard of a 16mm public library reel.',\n",
       " 'Just none of them appear to be on Amazon.',\n",
       " 'I thoroughly enjoyed Rising Sons and Daughters.',\n",
       " 'I dont know of any other book that looks at Japanese society from the point of view of its young people poised as they are between their parents ageold Japanese culture of restraint and obedience to the will of the community, and their peers adulation of Western culture.',\n",
       " 'True to form, the New Young of Japan seem to be creating an international blend, as the Ando family demonstrates in this beautifully written book of vignettes of the private lives of members of this family.',\n",
       " 'Steven Wardell is clearly a talented young author, adopted for some of his schooling into this family of four teens, and thus able to view family life in Japan from the inside out.',\n",
       " 'A great read.',\n",
       " 'I heard a song or two and thought same o same o,but when i listened to songs like blue angel,lanna and mama the hair just rose off my neck.',\n",
       " 'Roy is trully an amazing singer with a talent you dont find much now days.',\n",
       " 'I have had the charger for more than two years.',\n",
       " 'It charges AA batteries just fine, but has a huge problem securing smaller AAA batteries.',\n",
       " 'To charge the smaller batteries you need to flip down the little button at the positive end.',\n",
       " 'In the beginning one of the four AAA batteries would pop up, and now three out of the four wont hold.',\n",
       " 'The problem is the flip mechanism became loose, and any horizontal pressure would push the buttons back up.',\n",
       " 'What I have to do now is using duct tape and a segment of crayon, apply the crayon on the buttons, and wrap the tape around.',\n",
       " 'You know how painful that is.',\n",
       " 'I bought one of these chargers.',\n",
       " 'the instructions say the lights stay on while the battery charges.',\n",
       " 'true.',\n",
       " 'The instructions doNT say the lights turn off when its done.',\n",
       " 'Which is also true.',\n",
       " '24 hours of charging and the lights stay on.',\n",
       " 'I returned it thinking I had a bad unit.',\n",
       " 'The new one did the same thing.',\n",
       " 'I just kept it since it does charge.',\n",
       " 'but the lights are useless since they seem to always stay on.',\n",
       " 'Its a backup charger for when I manage to drain all my AAs but I wouldnt want this as my only charger.',\n",
       " 'I read the reviews,made my purchase and was very disappointed.',\n",
       " 'The charger is convenient by charging all four batteries at once but the charge only lasts a very short time.',\n",
       " 'I now have to go and find batteries that will give me longer life than the kodak NiMH AA batteries.',\n",
       " 'I was excited to find a book ostensibly about Muslim feminism, but this volume did not live up to the expectations.',\n",
       " 'One essay, among other things, describes the veil as potentially liberating.',\n",
       " 'It doesnt begin to explain how or why.',\n",
       " 'Another, on Muslim women in Cape Town, claims that Muslim women there are separate but more than equal.',\n",
       " 'Gee whiz, what a disappointment.',\n",
       " 'I had expected and hoped for at least one Muslim feminist condemnation of gender apartheid.',\n",
       " 'But there is not a single one in the book.',\n",
       " 'Im surprised it didnt have an essay extolling the virtues of female genital mutilation.',\n",
       " 'Alyssa A. Lappen.',\n",
       " 'This VCRDVD was an early Christmas present to myself after deciding to join the rest of the world in DVDland but not wanting to let go of my VHS movies quite yet.',\n",
       " 'Based on the reviews and price, and because I own a JVC TV, this was my choice.',\n",
       " 'I agree with the easy setup.',\n",
       " 'Its a bit awkward to work the whole TVVHSDVD selection options but I think Ive gotten the hang of it.',\n",
       " 'Two comments its not intuitive and actually is pretty complicated too many buttons on the remote but that might please others who are more technicallyminded than me so Ive had to rely heavily on the howto manual.',\n",
       " 'And setting the VCR timer is awkward  you cant enter the start and end time but have to scroll unless Im missing something.',\n",
       " 'but those are my only complaints.',\n",
       " 'This is a good product for your.',\n",
       " 'I am a big JVC fan, but I do not like this model, I was suspiscious when I saw several units in the return section of the store.',\n",
       " 'I bought one anyway new and must say I am not happy.',\n",
       " 'The unit sends out clicks to the receiver once in a while, the transition between scenes is not always smooth,like a little pause and while it is still fairly new I cant get any DVD,CD or even a DVD headcleaner to work.',\n",
       " 'All I get is a incorrect disc message.',\n",
       " 'Im a JVC nut.',\n",
       " 'I have 3 JVC televisions, one VCR, one bookshelf audio system and car audio system.',\n",
       " 'So when it came time to move the VCR player to the boys room and get another one for the old man I knew what make it was going to be.',\n",
       " 'I decided on the combo player because I dont think VHS is going to be around much longer.',\n",
       " 'I like my combo player except for 2 things1no cable box compatability on the remote control 2no seperate audio video inputs only input for coax cable from my cable box so all of the cable programming is in mono.',\n",
       " 'wife cant tell the difference in the sound so if shes happy then Ill just live with it.',\n",
       " 'VCR and DVD look and sound GREAT.',\n",
       " 'The plot is so ridiculous, I have to wonder if they even read the script before making this film.',\n",
       " 'The mountain lion breaks out of his trailer  and the cars behind dont notice The mountain lion is captured  and put in a jail cell Get real Utterly, completely stupid.',\n",
       " 'Hotel Babylon is not just good TV.',\n",
       " 'its great TV The show features some incredible acting from Tamzin Outhwaite formerly of EastEnders, a BBC soap and Max Beesley from the illfated movie Glitter starring Mariah Carey.',\n",
       " 'The show could make for a great drama series, but I felt that it is a mix of a drama, comedy, and soap opera all mixed into a great BBC show.',\n",
       " 'The show aired on BBC America for a while but didnt get around to seeing it.',\n",
       " 'I can now say that I got the DVD set and all the episodes are great.',\n",
       " 'The season finale was an interesting to watch.',\n",
       " 'The show reminds me of Hotel which aired on ABC from 1983 to 1988.',\n",
       " 'The reason.',\n",
       " 'Hotel was set at a fictional San Francisco hotel as Hotel Babylon was set at a luxury fivestar hotel in England.',\n",
       " 'I recommend this DVD to anyone who is willing to watch a great show from the BBC.',\n",
       " 'If you have even casually looked into applying to law school, have already read everything there is in this book, do not waste your money, seriously.',\n",
       " 'When I first ordered the CD, I figured it was going to be a hip, cool daddy vibe CD.',\n",
       " 'However much to my dismay it sounds like a fourth grade music class.',\n",
       " 'The main jist of the CD is that there is a xylaphone playing over peoples voices trying to replicate happening party.',\n",
       " 'I believe if I played this CD at a party anywhere in my neighborhood I would get laughed off the beach.',\n",
       " 'Growing up a surfer in San Diego, I would not recommend this CD to any of my Southern California brothers.',\n",
       " 'Honestly, when I played it I kinda of felt I was in a bad B movie.',\n",
       " 'The absolutle epitimy of the CD is the last vibe Surf Cha Cha.',\n",
       " 'Surfers dont CHA.',\n",
       " 'Wondering what the hell has happened to the moral aspect of modern American culture  This book is a lucid, well argued explanation of the simple fact that we have become so totally focused on our individual RIGHTS that we have completely ignored, and even mocked, our personal and public responsibilities.',\n",
       " 'The final response and indictment of Robert Ringers best seller, LOOKING OUT FOR 1.',\n",
       " 'This is a great time for anyone who is disgusted with the boorish state of American media, politics and discourse in general, to clear their heads for the substantial challenges that lie before us not only as Americans, but as human beings.',\n",
       " 'A great book.',\n",
       " 'Larrys work for the Muse label in the late 80s and early 90s found him exploring the rich catalog of jazz standards that he probably grew up playing.',\n",
       " 'Surrounding himself with the best musicians around, Larry sounds relaxed, focused, and totally in control.',\n",
       " 'Listen to Larrys take on My Funny Valentine and tell me it doesnt stand right up there with Chet Bakers or Miles.',\n",
       " 'A very fine album that youll enjoy again and again.',\n",
       " 'It clearly says on line this will work on a Mac OS system.',\n",
       " 'The disk comes and it does not, only Windows.',\n",
       " 'Do Not order this if you have a Mac.',\n",
       " 'My three year old son was very excited to get this but after two attempts at playing it hasnt been touched since.',\n",
       " 'You are not able to use the mouse through any of the games except for the powerup segments instead you are using the updown arrows on the keyboard  too hard for him and not much fun.',\n",
       " 'Very disapointed with this game and wish I could return it.',\n",
       " 'This game makes you do the same things over and over, it never holds my sons attention long enough to get to the next level.',\n",
       " 'There is no choice of games you have to do every thing in order.',\n",
       " 'We have another Rescue Heroes game and both my boys 3 and 6 love it, but this one is a dog.',\n",
       " 'As a former Alaskan, I didnt want to have to do this.',\n",
       " 'But after repeatedly attempting Allmans recipes and having to throw out 810 cups of flour and miscellaneous ingredients nearly every timeand then comparing to Ed Woods recipes which work flawlessly, and Lisa Rayners very excellent Wild Bread Handbaked sourdough artisan breads in your own kitchen, I cant help but notice that their recipes work, where Allmans fail.',\n",
       " 'Im not a novice baker.',\n",
       " 'The only thing that worked reliably was the pancakes recipe, but that can be found other places as well.',\n",
       " 'If you are looking for reliable recipes and concise information about starting a sourdough and maintaining it, I recommend any of Ed Woods books, even his very old ones.',\n",
       " 'Lisa Rayner has written a fabulous tome in Wild Bread.',\n",
       " 'But pass on this book.',\n",
       " 'While some of the historical vignettes were interestingnot enough so to warrant the cost of the book.',\n",
       " 'Check it out at your library if you must.',\n",
       " 'REad most of the book while visiting my brother in Alaska.',\n",
       " 'Loved it.',\n",
       " 'I am going to be making my sourdough starter soon.',\n",
       " 'Book is full of great stories and recipes.',\n",
       " 'This book is worth to keep in your collection as it does not only advise what to do with sourdough but Ruth also told you what the picture of past 100 years ago in Alaska where no stand mixer nor any civilized stuffs in kitchen, just a pot of sourdough.',\n",
       " 'got this for my daughter in NC, she is now making prefect bread.',\n",
       " 'Wish she lived closer to make me some.',\n",
       " 'One of these 26 songs played as background music on a YouTube video of some kind of gymnastic or dance feat out of Russia.',\n",
       " 'I hunted down the melody, read the English lyrics, then decided to see what else was in the album.',\n",
       " 'Downloaded the full album for 15 via Amazon mp3 downloader, and now happily listen to the melodies interspersed on my iPod.',\n",
       " 'My experience I got this from FM, not Amazon.',\n",
       " 'The DVD player rattled pretty loudly sometimes but not always when I put in a DVD.',\n",
       " 'I tried several.',\n",
       " 'The picture quality wasnt all that great and the screen got a horizontal line thru the middle after a short time that would not go away.',\n",
       " 'Plus one of the other reviewers was dead on about the remote  the layout makes no sense at all Very poor human engineering, IMO.',\n",
       " 'I brought it back to the store for a refund.',\n",
       " 'I saw the same model under the Emerson name for 400 at WM but was hesitant to buy it.',\n",
       " 'Light weight, space saving very attractive design.',\n",
       " 'Sharp Picture, Good sound quality and quick response time.',\n",
       " 'DVD playback also excellent.',\n",
       " 'Only negative is its remote control.',\n",
       " 'It is hard to read the functions of the keys due to color choices.',\n",
       " 'The placement of the keys are almost illogical and you have to look at it carefully before each use.',\n",
       " 'It almost seems like it was designed by an imbecil.',\n",
       " 'The quality, the features and the price still makes this TV an excellent buy.',\n",
       " 'I bought this for my wife for her birthday,and had toreturn it because the DVD palyer would not work.',\n",
       " 'I returned it and got a repalcement, which once again the DVD player failed to work It is a piece of junk.',\n",
       " 'This TV is set so that it is not capable of a recall function.',\n",
       " 'If you want to flash back between channels, this TV is not going to give it to you.',\n",
       " 'The remote control that comes with the TV has no recall function, so I bought a Sony universal, which is a much better remote, that had the recall button on it.',\n",
       " 'However, I soon learned that the TV is set at the factory to not have the capability to flashback.',\n",
       " 'It may not be a big deal to some, but this user found it very annoying.',\n",
       " 'I bought this to replace a 13 tube tv in my kitchen.',\n",
       " 'What I gained was a larger screen plus relcaiming the counter space.',\n",
       " 'The picture is good, and the internal DVD player is a bonus.',\n",
       " 'All in all, a good purchase.',\n",
       " 'The first one I bought was defective.',\n",
       " 'The DVD didnt work at all.',\n",
       " 'I purchased it from Electronics Express and when I contacted them they were wonderful.',\n",
       " 'They gave me an RMA number right away, Fedex picked it up the next day and a new one arrived 1 week later.',\n",
       " 'This one is just fine.',\n",
       " 'I really love the clarity of the picture.',\n",
       " 'My only complaint is that in DVD mode, the sound isnt loud enough.',\n",
       " 'I have it in my RV and with the AC running, I can barely hear it.',\n",
       " 'I solved the problem by running an audio out jack from the TV to the input on the RV stereo speaker system.',\n",
       " 'Its very lightweight and easy to move around and store.',\n",
       " 'A bonus for the RV.',\n",
       " 'The remote isnt great, but it works just fine and the videoaudio jacks and antenna input are easy to get to as is the DVD player.',\n",
       " 'All in all, its a great deal for the price.',\n",
       " 'This book in my opinion is biased and takes an angle of Europe that is clean and proper and fails to shed light on the rest of it.',\n",
       " 'I can understand that these are tourist guides and why would anyone want to tour a country forgotten by time.',\n",
       " 'However, I am a very disappointed Romanian with this book and would never use it as my reference.',\n",
       " 'I have seen travel guides outlining Europe exclude Romania before, but with the precision and detail of DKs series, I was left yet again in disappointment.',\n",
       " 'This book is realy great for everybody who likes to travel Europe.',\n",
       " 'The combination of good pictures, illustration and texts is perfect.',\n",
       " 'You get a good overall view for the most important sights, places, cities and countries in Europe and also a bit of historical information.',\n",
       " 'As a European who already traveled a bit I still could find a lot of inspiration to more interesting places to go.',\n",
       " 'Thank a lot to Eyewitness Travel for there great books.',\n",
       " 'I bought both this and lonely planet and have used lonely planet more because this book is full of pictures but doesnt give you all the info you need.',\n",
       " 'Also, I ended up buying each indiv city guide as well because this one only scratches the surface.',\n",
       " 'I bought this book because we are moving to Germany and I wanted to get a good overview of all the countries in Europe that we could travel too.',\n",
       " 'Unfortunately pages 457480 on Greece are not in English  looks to be Spanish.',\n",
       " 'There was some sort of printing problem But I found the rest of the book to give good highlights of the countries.',\n",
       " 'From Memphis, TN.',\n",
       " 'comes The Reatards, fronted, of course, by wild kid Jay Reatard.',\n",
       " 'He starting off on Eric Oblivians label, Goner, at the tender age of 15.',\n",
       " 'Jay, now 19, is still rocking and offending the sensibilities of his community.',\n",
       " 'Overdriven, loud, crackling guitars underlaying Jays southern crooning howl energizes some of the most amazing hatefilled song writing weve heard in years.',\n",
       " 'Either 1 or 5 Stars.',\n",
       " 'Depends on how you look at it.',\n",
       " '1 Star because they sent 6 feet of 2 OD copper pipe.',\n",
       " '0 Star because they wont accept returns on it.',\n",
       " '5 stars because I figure its actually worth 1215foot and since they wont take a return I figure I can sell it and make 4050 on this deal.',\n",
       " 'Thia was a gift for my Husband, who loved the book.',\n",
       " 'It arrived on the date we were told it would.',\n",
       " 'The text is the same as ever I think, but the plates are markedly inferior to all previous editions.',\n",
       " 'Had I known this ahead of time, I would not have purchased this volume.',\n",
       " 'An extremely helpful gem on a complex subject of second century religious authority and textual use.',\n",
       " 'For anyone serious about this period and the interelation of cultures, this book is essential.',\n",
       " 'Is it complex and detailed Of course, it must be to argue the point.',\n",
       " 'Should you buy it Yes, unless you want to keep running back to the library.',\n",
       " 'I write this only after thoroughly disagreeing with the review above.',\n",
       " 'The screen arrived in a cardboard box that was pretty beat up.',\n",
       " 'The screen itself is very lightweight, very cheesy looking.',\n",
       " 'The finish was worn across the entire top of the screen.',\n",
       " 'I knew this wasnt solid brass, but I expected something that at least looked decent from a distance for the price I paid.',\n",
       " 'Purchased this screen last week and it came with noticeable scrapes across the top.',\n",
       " 'The box it came in was gigantic with plenty of packaging material, but the screen was packaged loosely at the bottom.',\n",
       " 'However, since it was in another smaller box, Im thinking that the scraping was there to begin with, and not from shipping.',\n",
       " 'Still deciding whether to go through the trouble of exchanging it since another reviewer said they had the same damage.',\n",
       " 'I wouldnt want to risk getting another with the same damage and I really need a screen right now.',\n",
       " 'Other than the damage, its a very nice screen.',\n",
       " 'You dont expect music from africa to be so profesionally produced.',\n",
       " 'Me from the white world, dont understand the lyrics, but we do understand the music which is a mixture between salsa, soukous and fado with always the african feeling for rithem.',\n",
       " 'The soft almost borred voice of Oliver Ngoma fits pefectly in the music.',\n",
       " 'The CD is recorded in France Paris, you can hear that professionals have been working on the CD.',\n",
       " 'A must for a hot, lazy night.',\n",
       " 'greetings Arno, Amsterdam.',\n",
       " 'I ordered these shoes to replace the previous pair that had ripped apart at the sole.',\n",
       " 'Clark said they did not make this shoe anymore, so I had to order them through Amazon.',\n",
       " 'Sadly, the second pair ripped in the same place within 3 months.',\n",
       " 'My son has since bought a similar pair from Sperry and they seem to be holding up much better.',\n",
       " 'The narrative style of this work by famous founders biographer John Morse is arrogant, flippant and frequently exaggerated.',\n",
       " 'It carries the tone of the amateur Yankee historian on high, passing judgment on this Southern statesman who was neither from Boston nor a Harvard graduate.',\n",
       " 'Perhaps considered penetrating for its day, it really represents nothing more than opinion today.',\n",
       " 'The research is so thin that one must conclude that Morse wrote the entire manuscript essentially from memory, with little reference to the primary and secondary sources we expect of historians now.',\n",
       " 'If it werent for the fact that Morse wrote this piece 110 years ago, Id have rated it only one star.',\n",
       " 'This was a gift for my 6 yr old daughter.',\n",
       " 'She is a big Barbie fan as well as loves to use the computer.',\n",
       " 'She is still enjoying this game.',\n",
       " 'She completed it in a few hours which worried me at first, but she loves to do it over and over again.',\n",
       " 'The music is enjoyable and the colors are vibrant.',\n",
       " 'It seems to be very user friendly also.',\n",
       " 'my daughter has not really needed my help to use it once she started it the first time.',\n",
       " 'My four year old daughter loves everything Barbie and loves the Rapunzel movie.',\n",
       " 'This game is tons of fun, even for a 42 year old.',\n",
       " 'We love playing it together.',\n",
       " 'We love decorating all the rooms and finding the gems.',\n",
       " 'What even better is, she can play it alone and I get some me time.',\n",
       " 'My 4 year old daughter has been addicted to this game.',\n",
       " 'She plays it over and over again.',\n",
       " 'She loves the opening song and has been singing it non stop.',\n",
       " 'She gets excited each time she completes a room and finds a gem and loves solving the maze to find Prince Stefan.',\n",
       " 'The only problem is that she sings the song so much I cant get it out of my head.',\n",
       " 'This is such a great game both my 3 year old son and 7 year old daughter love it.',\n",
       " 'I like to play to if they would let me So much fun decorating the rooms and so many choices to keep you playing Great game.',\n",
       " 'Not at all what you would think a Barbie game would be.',\n",
       " 'Great fun for all.',\n",
       " 'My daughter and I loved the movie.',\n",
       " 'She is 5 years old and it took her 2 hours to complete the game.',\n",
       " 'Absolutely no challenge, and very little interaction.',\n",
       " 'It is essentially just clicking on the screen to make it play the 7 or 8 scenes it has programmed.',\n",
       " 'There are no games to play, nothing to figure out, nothing to do.',\n",
       " 'Save your money.',\n",
       " 'My 6year old daughter is currently sobbing in her bedroom as a result of this rotten game.',\n",
       " 'She spent an hour on this game painting in pretty pictures and coloring in flowers.',\n",
       " 'But halfway through the game, the program hung, and wouldnt let us leave the room or click anywhere else.',\n",
       " 'Now even if we exit the game and then start it back up, we are frozen in one spot while Barbies disembodied voice urges us to explore somewhere else in the castle.',\n",
       " 'Standard software troubleshooting and rebooting didnt help.',\n",
       " 'Vivendi Games support site is currently disabled.',\n",
       " 'And now Im left with a weeping, frustrating child who doesnt understand that it is not her fault that her game wont work.',\n",
       " 'Im hoping it was just incompetent software programming that couldnt catch the bug my 6year old caught the first time around.',\n",
       " 'Or maybe they just dont care about the problems, so long as you get our 20 bucks.',\n",
       " 'If you dont want a crying little girl, avoid this game.',\n",
       " 'I purchased this software for my 5 year old granddaughter and she loves playing it so much.',\n",
       " 'She lets me play it sometimes, but she doesnt always like what I come up with.',\n",
       " 'I plan to purchase other software programs for her.',\n",
       " 'My 3 year old daughter  I both love this software.',\n",
       " 'We actually fight over who is going paint the pictures or choose the themes for each room.',\n",
       " 'This game allows you to be creative  use your imagination by decorating each room of the castle and finding the missing gems to the princes crown which gives Rapunzel the power to find Prince Stephan who has been turned to stone  bring him back to life.',\n",
       " 'The music  animation is the best I have seen.',\n",
       " 'Most of the kids software that Ive seen is boring to me as an adult, but this is not at all.',\n",
       " 'I sometimes like to play it without her There are so many variations on color schemes  patterns  that you can never be bored.',\n",
       " 'I highly recommend this for girls of all ages.',\n",
       " 'This game is pretty exciting and it is very nice and it is really creative and one of a kind.',\n",
       " 'The only bad thing is that there is only one castle for the kids to decorate and once you are done with the whole castle that is basically it.',\n",
       " 'You either have to create a new username for yourself to do it all over again or you get another game like I did.',\n",
       " 'My sister finished the castle in about 2 hours and after that has never even looked at this game anymore.',\n",
       " 'It is a nice game and it is fun but it is not really worth that much money.',\n",
       " 'NEGATIVE This game does not work with OS X and requires the CD so you cant have it on multiple computers.',\n",
       " 'It is slow I have to tell my daughter that it is thinking a lot, this is because it has to access the CD everytime there is a new task.',\n",
       " 'You cant view the openning sequence again without throwing out the saved game files.',\n",
       " 'Some of the tasks and controls are too hard and not user friendly even for adults.',\n",
       " 'it CRASHES all the time.',\n",
       " 'Mouse is jumpy and hard to use.',\n",
       " 'POSITIVE Some tasks are easy, possible to use, grand and beautiful.',\n",
       " 'My three year has enough patience to survive the multiple trials to get this to work.',\n",
       " 'I ordered this DVD and received a substitute I never received the DVD I ordered from Importcds the Vendor.',\n",
       " 'I contacted them and did not recieve any feedback.',\n",
       " 'I cant rate a DVD I have never seen.',\n",
       " 'I didnt bother to send it back because it would have cost me more that I orginally paid for it.',\n",
       " 'In the future I will watch for the name of the person andor persons I am buying from.',\n",
       " 'I thought they were a good company.',\n",
       " 'I understand a simple mistake but, to not get a response at all is not good businees sense.',\n",
       " 'I spend hundreds of dollars a month on Amazon.',\n",
       " 'com building my DVD collection.',\n",
       " 'I guess I will be more careful in the future.',\n",
       " 'This is my second bottle of sheer freesia, I just love this fragrance, its a light delicate sent, beautiful, like a summer day.',\n",
       " 'This perfume is just AWFUL Smells nothing like freesia.',\n",
       " 'The gift recipient was not impressed.',\n",
       " 'The worst is that it cant be returned.',\n",
       " 'Wow, what people will do behind jealousy and revenge  there are some doors you should not open, and if you do  be prepared for what you find behind it.',\n",
       " 'While the movie in itself was better than i expected what i didnt expect was the non existent Thai soundtrack.',\n",
       " 'While the option was on the disc menu as well as stated on the package the Thai soundtrack does not exist.',\n",
       " 'No matter what you choose, Thai or English, English is what you get and while there are some exceptions most dubbing is ridiculous at best and the dubbing on this title is sub par.',\n",
       " 'While this review covers only the first movie of the two the other may remain in plastic never to see the inside of my dvd player.',\n",
       " 'Its a shame and a sham when you purchase what claims to be original and is not.',\n",
       " 'Very disapointed in this offering from Tokyo Shock.',\n",
       " 'Man, some more jammin tracks from the SUC.',\n",
       " 'This is Pokeys first official record.',\n",
       " 'and sh is sooo real.',\n",
       " 'Love the production, everything is real nice  screwed out.',\n",
       " 'This is among the last of the great SUC records.',\n",
       " 'Not to say theyve fallen off.',\n",
       " 'just theyve downsized so much with the deaths of the screw pioneers.',\n",
       " 'Sad but true.',\n",
       " 'If ya love Tx rap, youve gotta get this 1.',\n",
       " 'Somethin to kickback  blow big too, somethin to jam in the ride.',\n",
       " 'So underrated, right here.',\n",
       " 'I wish people would forget all the bullsh on BETMTV and check whats happening in Houston.',\n",
       " 'But i guess.',\n",
       " 'its sadly almost too late.',\n",
       " 'Pats gone, hawks gone.',\n",
       " 'screw, Moe, Pimp C, Big Steve.',\n",
       " 'Makes me sad.',\n",
       " 'Regardless, Pokey is still alive and making new music, keeping the legacy alive.',\n",
       " 'And this is a great place to start with him.',\n",
       " 'Classic record.',\n",
       " 'Love it, man.',\n",
       " 'This is probably the best southside CD to ever come out.',\n",
       " 'Pretty much every song has a guest or 2 on the track.',\n",
       " 'From the late Fat Pat, to Botany Boys, Mr. 32, Big Steve, Chris Ward, H. A. W. K, and many more.',\n",
       " 'This is how a southside CD should always be.',\n",
       " 'Well written chronicles of The Farm from the people who lived it.',\n",
       " 'Excellent photos as well.',\n",
       " 'I kept looking for a photo of me and my thenwife, but I wasnt there long enough.',\n",
       " 'But shewas.',\n",
       " 'i have a copy of this book and love it and cant wait til the revised version comes out in a few weeks.',\n",
       " 'Bill Harvey has a wonderful gift of making history come alive in this book.',\n",
       " 'This book awakens a sense of wonder at the possiblility of a real relationship with God as you follow the faithfulness of one little girl in ancient times.',\n",
       " 'Young girls ages 515 will love this book.',\n",
       " 'It has always been one of my most loved treasures, a real Keeper.',\n",
       " 'This book drew air pretty bad.',\n",
       " 'I have no idea why someone would waste their time writing it.',\n",
       " 'Boy did it draw air.',\n",
       " 'Do not read this book.',\n",
       " 'just like the title says.',\n",
       " 'Warm, comfy but run a size too big.',\n",
       " 'I dont wear them out as they are just for lounging, so its not that big of a deal for me.',\n",
       " 'I ordered the cake topper June 27, 2010.',\n",
       " 'I was given an estimated shipping date of July 17, 2010.',\n",
       " 'Those dates came  went with no cake topper.',\n",
       " 'I contacted the seller twice with no response.',\n",
       " 'I filed a claim with Amazon.',\n",
       " 'I did end up receiving a cake topper on July 16, 2010 however, its not even the one I ordered The seller did refund my money, but has never contacted me or apologized for the mishap.',\n",
       " 'I will never buy anything from the seller again.',\n",
       " 'I looked at the sellers feedback  Im not the only person they have done wrong, so buyer beware.',\n",
       " 'Arrived very quickly and it is a cute topper however I wouldnt have bought it if they didnt provide instructions I should have listened to the other reviews.',\n",
       " 'If you are hoping to get more than the topper DO NOT BUY THIS So annoyed I have this Ariel and have no idea how to decorate the cake.',\n",
       " 'Promised with this item are Complete Instructions and the additional pledge that Sweet Graces will email you with the Supply List and Instruction sheets on purchase  so you can be ready ahead of time I received none of this  only a plastic figurine and bracelet.',\n",
       " 'To boot, Amazon claims they can do nothing to help me contact the seller.',\n",
       " 'All I got was a phone number for the manufacturer.',\n",
       " 'Lets hope that yields some results.',\n",
       " 'Meanwhile, Im wishing I had listened to previous feedback about this unreliable seller.',\n",
       " 'I just dont get it  SOULWAX has been around since the 90s, when they released their rock debut on the now defunct Almo Sounds, chock full of shouldhavebeen radio hits, and then when while they got some attention for their 2 Many DJs mashupremix bootlegs, when they return to a fullfledged band, as with last years ANY MINUTE NOW, critcs  consumers alike barely took notice of that albums amazing writing, production, and sheer electrorock power.',\n",
       " 'Hopefully, Nite Versions a cheeky title recalling when 80s bands like Duran Duran used to release Nite Version on 12 of singles for clubs will garner more sales and attention for SOULWAX  the songs practically leap out of the speakers to grab your neck and turn you head and make you move.',\n",
       " 'Cant wait to hear what they do TIGA on his upcoming Sexor debut.',\n",
       " 'wow  this is like the most amazing album ever.',\n",
       " 'Every track so rocks.',\n",
       " 'specially1 Etalking2 NyLipps3 I love Techo.',\n",
       " 'great job guysMusicChoice played their whole album this Saturday night.',\n",
       " 'and I was jamming to it the whole time going wow.',\n",
       " 'one more thing, if youre not into HouseTechnoelectronic then you dont want none of this, cause you wont feel it.',\n",
       " '2 stars of 5 for this slow dull classical 1980s style movie.',\n",
       " 'This movie has a young Jason Bateman in the lead.',\n",
       " 'Very very very slow and dull with a few moments of bad 1980s style music.',\n",
       " 'To our relief the background music which is very annoying is kept to a minimum.',\n",
       " 'Though it attempts to be an actionsuspense movie, it achieves neither.',\n",
       " 'Id suggest skipping this movie.',\n",
       " 'I loved this movie as a kid and I am so happy the powers that be have decided to release it finally If you want to see a great 80s movie, this is it.',\n",
       " 'The book was wriiten very horribly.',\n",
       " 'I would never in my life recommend such a book.',\n",
       " 'The stories lacked any mystery to them and did not leave me wanting to figure out who the culprit was.',\n",
       " 'The only good thing was that none of the stories took up ten or twelve pages.',\n",
       " 'Trains, shapes and pegs  a winning combination, guaranteed to make both the child and the parent happy.',\n",
       " 'Good starter puzzle for the 1 yr old range.',\n",
       " 'I remember getting this book so faintly that that says alot about my opinion of it.',\n",
       " 'Basically, while I will entertain lots of odd ideas and theories, this book was basically silly.',\n",
       " 'I think that the Deodato concerts are very rich, as he used real strings and band musicians, as well as you can appreciate the John Tropea excelent renditions on guitar.',\n",
       " 'These tracks are not the original versions but are rerecorded versions.',\n",
       " 'So, whether the tracks are remastered or not is irrelevant.',\n",
       " 'Book shipped quickly and was in excellent condition as stated.',\n",
       " 'Easy transaction would buy again.',\n",
       " 'This is an engaging a count of life of Tess a girl who at a young age washed up on the shore of the Isle of May.',\n",
       " 'With no memory of the life before then, she stays with the old caretakers of the isle.',\n",
       " 'After the caretakers are dead a young man, Colin Macpherson washes up on shore.',\n",
       " 'Colin takes Tess back with her to his castle where he helps her uncover her past.',\n",
       " 'They are opposites,but you know what they say opposites attract.',\n",
       " 'This book is just one of many in the Avon True Romance series.',\n",
       " 'I have read every book in the series and I know that if you like this book you love the rest.',\n",
       " 'This is a great book for girls about 10 to 16 because it is still a romance novel, but not what you call a trashy romance novel.',\n",
       " 'It is a great novel fokr those who are just getting into romance novels.',\n",
       " 'When I got this book, I wasnt expecting much, but man was I wrong I loved this book Now I may not usually be tied in by a man with long blond hair wearing a kilt, but the authors really made Colin into this enchanting Highlander.',\n",
       " 'Tess is a very soft heroine.',\n",
       " 'While she sometimes seems too guillible, I have to remember that it is part of the story.',\n",
       " 'This is one of my favorite books in the series.',\n",
       " 'Tess Lindsay is content to be the sole occupant of a remote island but when Colin Macpherson washes ashore her life of solitude gets shaken up.',\n",
       " 'Tess had always been told to fear strange men but she reluctantly strikes up a friendship with Colin.',\n",
       " 'Soon Tess discovers that she has a family she had forgotten about but will she have the courage to leave the island and start a new lifeThe beginning of this book is very amusing and the end is decent too but the middle is a big problem.',\n",
       " 'The plot loses much of its believability mostly due to the poor characterization.',\n",
       " 'All of the new characters that are introduced are one sided and their behavior lacks reason.',\n",
       " 'Even Tess and Colins development is side tracked in much the same way and their relationship seems awkward and forced.',\n",
       " 'The writing does improve towards the end but its not enough to save the book.',\n",
       " 'Unless you have your heart set on reading all of the books in the series, skip this one.',\n",
       " 'I am disappointed in its performance.',\n",
       " 'It seems underpowered and is constantly trying to read CDs, half the time unsuccessfully.',\n",
       " 'I am going to try to return it to Amazon.',\n",
       " 'These pants were way too big looked about 2 sizes larger, and they were incredibly stiff.',\n",
       " 'They would have been very uncomfortable for my daughter to wear all day.',\n",
       " 'This is my first encounter with Yoruba and I have to say that CDs are really helping.',\n",
       " 'However, the book is very short and not particular about certain aspects and details of grammar and other nuances  for someone who NEVER spoke Yoruba and doesnt have anybody to ask for a clue, it leaves a lot of questions unanswered  for this, however, there are hopefully other Yoruba textbooks.',\n",
       " 'On the brighter note, I would like to add that the book does a very good job in giving a little insight on Yoruba people and Yoruba culture in general.',\n",
       " 'I would recommend it as a good start book for anyone who wants to learn Yoruba  you cant go wrong with it.',\n",
       " 'I agree, the CDs are a much needed help, since it would be impossible to pronnounce the Yoruba tones without the help of a native speaker.',\n",
       " 'However, the design of the book is really poor and confusing.',\n",
       " 'I have found several spealling mistakes in English and Yoruba.',\n",
       " 'And the grammar explanations are very hard to understand.',\n",
       " 'Unfortunately there are not many Teach Yourself Yoruba books that are worth it.',\n",
       " 'This one at least provides basic vocabulary and pronounciation skills.',\n",
       " 'I ordered this DashMat for a specific vehicle, it was not the correct mat.',\n",
       " 'I returned the original one and they sent me an exact duplicate of the wrong mat.',\n",
       " 'I cant seem to get the correct one and therefore it sits in a box.',\n",
       " 'I play this with my grandchildren.',\n",
       " 'It teaches us both the value of a good memory and is challenging for all.',\n",
       " 'You sometimes miss the most obvious.',\n",
       " 'Lots of funtic tac toe with a twist.',\n",
       " 'My 4 year old daughter LOVES this game.',\n",
       " 'She sings the Strike Up The Band and Clap Your Hands for Kellys Pet Parade song around the house.',\n",
       " 'She can dress the Kelly kids, train each pet teach the pony to jump, etc.',\n",
       " ', clean and get the animals ready for the parade paint the elephants toe nails, etc.',\n",
       " ', and decorate the floats.',\n",
       " 'all by herself.',\n",
       " 'Shell get everything ready showing me everything she has accomplished along the way and then well watch her special parade.',\n",
       " 'A wonderfully cute game that I highly recommend.',\n",
       " 'She can mostly do the entire game on her own.',\n",
       " 'I have it installed on a laptop so she is actually using the inset mouse and can still do the game.',\n",
       " 'The only one she has a tough time with is the Polar Bear catching fish game.',\n",
       " 'Its tricky to move your finger on the mouse pad and click at the same time to catch the fish.',\n",
       " 'It would be much easier using a regular mouse.',\n",
       " 'My 6year old and 5year old both really enjoy this game.',\n",
       " 'Has lots to do with several different animals to prepare for the parade.',\n",
       " 'You get to design a float and it just endless fun Graphics and animation are very colorful and cute.',\n",
       " 'Its a winner.',\n",
       " 'fun easy game if you can keep it from freezing.',\n",
       " 'Ive reinstalled it and done everything I know to do to correct the issue.',\n",
       " 'Its a shame my 4yr old really likes it.',\n",
       " 'We purchased this game a year ago and my girls still love to play it.',\n",
       " 'Lots of activities, they love to decorate the floats and watch the parade.',\n",
       " 'i am completely satisfied in the manner my order was delivered.',\n",
       " 'the shoes are just as awesome as the advertisement showed them to be.',\n",
       " 'This cd is really great.',\n",
       " 'BUT ITS NOT A GAMEtheyre not long versons though, only 90 odd seconds each.',\n",
       " 'If that Claire, also from the UK who was disappointed with the cd wants to get in touch, i know where you can get games with the songs you want.',\n",
       " 'Im assuming youre after all the cool songs from euromix.',\n",
       " 'If so, they are on 2nd and 3rd mix games from japan.',\n",
       " 'but there are also US versions available too.',\n",
       " 'i have ordered this cd of here but it will take abit to get to me as i live in England.',\n",
       " 'But i have danced and sang along to it at the arcades ive been to and i think its great if you love to dance.',\n",
       " 'My favorite songs are what a feeling and in the navey i also like captain jack but i love them all.',\n",
       " 'I did not know this was the audio cd of the game, I thought it could be used on the playstation.',\n",
       " 'Maybe the other guys are from the US or somewhere where it is actually easy to get the game,and play it,but this was all in japanese and was not compatible with my machine.',\n",
       " 'I am deeply disappointed as i love the arcade game, but the Dance stage euromix Dance Dance Revolution equivalent is lacking in decent tracks, many are jungley and are difficult to dance to them.',\n",
       " 'Also, most of these tracks are unheard of here and are therefore not very enjoyable.',\n",
       " 'However, my favourite are Keep on moving, make a Jam, and Video Killed the Radio star.',\n",
       " 'But it gets a bit pedantic if you keep playing on these tracks.',\n",
       " 'If anyone is in the same situation as I am, or those of you who are lucky enough the play on the newest version, can you please let me know where I can order one I am in dance deprivationboredom.',\n",
       " 'I did not know this was the audio cd of the game, I thought it could be used on the playstation.',\n",
       " 'Maybe the other guys are from the US or somewhere where it is actually easy to get the game,and play it,but this was all in japanese and was not compatible with my machine.',\n",
       " 'I am deeply disappointed as i love the arcade game, but the Dance stage euromix Dance Dance Revolution equivalent is lacking in decent tracks, many are jungley and are difficult to dance to them.',\n",
       " 'Also, most of these tracks are unheard of here and are therefore not very enjoyable.',\n",
       " 'If anyone is in the same situation as I am, or those of you who are lucky enough the play on the newest version, can you please let me know where I can order one I am in dance deprivationboredom.',\n",
       " 'I admit that I bought this album for the title track alone.',\n",
       " 'After all, had that been the only good track on this CD I still would have felt that it was worth my money.',\n",
       " 'But the title track is just the beginning for this fine country offering by John Michael Montgomery.',\n",
       " 'I found myself listening to and enjoying every track on LETTERS FROM HOME.',\n",
       " 'Montgomerys smootherthansilk voice is one of the finest in country music today and his straightforward approach to his music comes through in every note.',\n",
       " 'You wont want to miss this one.',\n",
       " 'THE HORSEMAN.',\n",
       " 'JMM has never released a bad album.',\n",
       " 'Many would say this is a comeback album but every couple of years he releases an album with great hits.',\n",
       " 'For some reason, radio hasnt played some of his great songs from his latest albums.',\n",
       " 'Goes Good With Beer and Little Devil would be great singles to spice up country radio.',\n",
       " 'Letters From Home deserves to be single of the year and Cool is not far behind.',\n",
       " 'The more I listen to the album, the more I love it.',\n",
       " 'i like letters from home cuz it tells a story that if you really listen you can acctually hear john michael montgomery tell his story of soldiers and all that stuffi liked it and i like punk rock and rock so it must be good if i like it.',\n",
       " 'I gave it 5 stars because my little dog had so much fun riping it apart but only took him 24 hrs to do it buy that is 23 hrs longer than other balls.',\n",
       " 'LO QUE PENSE QUE NO ME INTERESABA SABER SOBRE EL BOX Y SUS CAMPEONES.',\n",
       " 'PERO ME CAUTIVO Y LO LEI HASTA EL FINAL AHORA SI PUEDO DISCUTIR DE BOX CON MI ESPOSO Y MIS CUADOS.',\n",
       " 'Y HASTA CON MI SUEGRO, QUE ES EX BOXEADOR.',\n",
       " 'This cereal is so sweet.',\n",
       " 'yet so good for you One tasteADDICTION I just tried this cereal out of curiousity and I was hooked It is an excellent breakfast choice, or just any time to eat Especially as breakfast because you will crave more honey taste and you wont be hungry later probably because of how much youd eat and it is actually sweeter and better than Honey Bunches of Oats.',\n",
       " 'Capn Crunch Berries is an option, but this splendid cereal is SO FILLED WITH A HONEYFILLED TASTE I have not tried much better tasting cereal than this Oh.',\n",
       " 'This cereal is great because it tastes so good.',\n",
       " 'You just crave it.',\n",
       " 'But a word of warning read the label.',\n",
       " 'Last time my husband and I looked, it had saturated fat All the other cereals in our cabinet did not.',\n",
       " 'hmmmm.',\n",
       " 'Another reviewer noticed this problem tooAlso, Amazons price of 23 is outrageous.',\n",
       " 'It is between 1.',\n",
       " '99 to 2.',\n",
       " '50 in our stores.',\n",
       " 'I was really distraught to go to my local Walmart and see that they stopped carrying my favorite cereal.',\n",
       " 'But as was elated to find that the site who has everything including a church made it available to me by the 6pack.',\n",
       " 'Ohs is an amazing cereal.',\n",
       " 'The one thing i dont like is the box is so small.',\n",
       " 'I get maybe 3 bowls out of the entire box.',\n",
       " 'My husband loves this book.',\n",
       " 'He said he has learned so much and that this was the best book to learn how to build a timber frame house by.',\n",
       " 'this book is a great over view of the joints used in building but has no information on beam spans or loads to actually build a building.',\n",
       " 'My friend is a master carpenter and he saw this book at a recent trip to Hanford Mills museum.',\n",
       " 'He is an avid reader and loved the book so much that I am inclined to read it as well Enjoy.',\n",
       " 'This book vaguely breezed across history and went into various types of timber structures.',\n",
       " 'The mortise and tenon joints that were illustrated were fascinating but not practical for a home builder.',\n",
       " 'My wife and I built a hybrid timber frame home using this book as a guide.',\n",
       " 'Although we have construction skills, this book was invaluable in guiding us through the process.',\n",
       " 'We cant wait to build another.',\n",
       " 'We highly recommend this book to anyone considering a timber frame house.',\n",
       " 'Yet another example of an superb book done a serious disservice by ebook publishers.',\n",
       " 'Multiple spelling errors, improperly placed figures  captions, whole sections of the book written in CAPS for some reason.',\n",
       " 'If you are looking for an excellent reference on traditional timber framing, look no further, but please pick up the print version instead of the ebook.',\n",
       " 'If you are expecting a book full of glossy sharp pictures, this is not the one to buy.',\n",
       " 'A lot of drawings and BW pictures that inform what they need to.',\n",
       " 'This is a very good manual for those who want to venture in a timber frame project.',\n",
       " 'These wraps were not doing anything when we placed them in hot water.',\n",
       " 'We searched the internet and found others having the same problem.',\n",
       " 'The instructions are very poor.',\n",
       " 'First off, you need to dip in boiling water or at least some temperature level above what I would call hot.',\n",
       " 'Second, the instructions dont describe what should happen, should the image shrink around the egg, transfer to it  whatNeedless to say, it was frustrating for a minute or two, but my wife  who is very intelligent and great in the kitchen  immediately thought, well.',\n",
       " 'hot water wouldnt do much to change the properties of the plastic, so lets try boiling water  nothing to lose.',\n",
       " 'Should be more explicit in the instructions.',\n",
       " 'We were using the star wars version of this product.',\n",
       " '2006 Coast to Coast for PC is great The graphics are awesome.',\n",
       " 'The game is what I had hoped for and a lot more.',\n",
       " 'Outrun was the biggest disappointment of my holidays.',\n",
       " 'If youve just come home from a life in 1985 you might enjoy this.',\n",
       " 'I read the reviews before buying but it didnt sink in what Arcade style meant.',\n",
       " 'I am an addicted follower of Colin MacRea rally and thought to race a ferrari across the US would be cool.',\n",
       " 'I was wrong.',\n",
       " 'The games is to car racing what space invaders is to Battlefield.',\n",
       " 'The landscape moves instead of the car and you have these idiotic stages like impress your girlfriend with how many slides you can do.',\n",
       " 'Total rubbish.',\n",
       " 'Not anyones fault but mine, but I live in Ireland and got it shipped through Florida so it is a costly mistake.',\n",
       " 'I had Henry back in the 70s.',\n",
       " 'I dont remember him with a nose since it was chewed off, but he was well loved.',\n",
       " 'Hes long gone and I thought I was the only one who ever had a Henry since nobody knew what I was talking about.',\n",
       " 'I cant believe Ive found him again Nobody can replace my original worn Henry, but Im so excited to have his clone back.',\n",
       " 'I had Henry back in the early 70s.',\n",
       " 'I am forty now and still have my original.',\n",
       " 'I bought a new one for my Dad who is ill because I knew he would get the significance.',\n",
       " 'Henry got me through the insecurities I had as a child and I am hoping he does the same for my Dad as he battles terminal cancer.',\n",
       " 'Thanks for making him again.',\n",
       " 'What it is about Henry Dog.',\n",
       " 'My daughter was 6 when we gave her Henry.',\n",
       " 'Love is not the word.',\n",
       " 'Obsession A few years later my exwife decided he had to go.',\n",
       " 'Under the guise of an incurable lice infection my exwife threw him out.',\n",
       " 'Trauma followed.',\n",
       " 'We bought a replacement which my daughter has safely on her closet shelf.',\n",
       " 'He is thread bare.',\n",
       " 'I found him online and was overwhelmed to read the reviews at Amazon.',\n",
       " 'com.',\n",
       " 'None had less than 5 stars.',\n",
       " 'Each story told how this little guy had touched their lives.',\n",
       " 'These Henry owners, both girls and boys, cherished him as if he had been a real dog.',\n",
       " 'I guess to them, he is.',\n",
       " 'Daddy had to buy his little 40 year old daughter a new one.',\n",
       " 'I got both the 14 and 3.',\n",
       " 'I was on the phone when she opened the box.',\n",
       " 'Henry was home again.',\n",
       " 'My granddaughter saw Henry got excited and wanted one also.',\n",
       " 'She is 19 years old.',\n",
       " 'This company should bottle Henry Dogs charisma.',\n",
       " 'Thanks for keeping him alive.',\n",
       " 'I had two Henry Dogs.',\n",
       " 'One I lost in a ride at Walt Disney World, the second to replace it.',\n",
       " 'I have no idea where Henry got to.',\n",
       " 'But now that I found him, I will have my friend again.',\n",
       " 'I had this toy from the time I was six years old, almost 40 years ago, and I think Ill be seeing him again around Christmas time.',\n",
       " 'Its a sweeet toy and really good for children of all ages.',\n",
       " 'While this book is a takeoff on the classic Snow White, its a fairytale for grown ups with some class act characters and a rich and rewarding love story.',\n",
       " 'I thoroughly enjoyed reading it, and look forward to more of Ms. Sinclairs works.',\n",
       " 'Although I was excited to purchase this book, my excitement didnt last when I looked at the sketches  pictures in the book.',\n",
       " 'I call them pictures because that is what they truly are, not actual patterns.',\n",
       " 'Norma Gregorys talent shows up well in her designs but due to their complicated rendering they are very difficult to transfer.',\n",
       " 'This book is not for beginners  but more seasoned artisans.',\n",
       " 'If you are looking for patterns, like I was, you will be disappointed in this book.',\n",
       " 'my brother in law was thrilled with the clarity and instructional commentswill be looking for more titles by her.',\n",
       " 'Unless they sent me the wrong product by mistake, the foot cushion picture and description does not match the item delivered.',\n",
       " 'I was under the impression I would receive two a pair of water filled foot cushions that I could insert into my shoes.',\n",
       " 'Instead I received ONE foot cushion, filled with another material not water that you attach to your foot via a toe strap.',\n",
       " 'I was definately not happy with the item and sent it back for a refund.',\n",
       " 'Luckily for me Amazon has a great return policy.',\n",
       " 'they make returns very easy.',\n",
       " 'I heard about this book, so I wanted to read it to see if it was as funny and stupid unintentionally as I heard.',\n",
       " 'I was not disappointed.',\n",
       " 'Few things in life are free, and sex is defintely not among them.',\n",
       " 'The perfect coda to this book is that the couple got divroced several years after publishing this book.',\n",
       " 'You cant make this stuff up.',\n",
       " 'This Broadway Theatre Archive production took one of the wittiest, most sparkling 18thcentury comediesand ruined it.',\n",
       " 'The costumes are intentionally absurd think Beach Blanket Babylon, the acting is way overthetopcamp, and the incidental music could not be worse.',\n",
       " 'The music, BTW, is a combination of pop Renaissance and pop modern anything but 18th century.',\n",
       " 'The director appears to have had the goal of showing that his company was just too hip and too modern to do anything but make fun of this silly, fusty old play.',\n",
       " 'I like The School for Scandal very much, and not having found any other DVDs of it, I started out with the intention of keeping a recording of even a bad production.',\n",
       " 'But when they got into the extended bopbebop of the drinking song scene, I knew I just couldnt ever sit through this one again.',\n",
       " 'The visuals are also blurry, but with the production being so bad, so what Anyone who actually likes this play will be revolted by this DVD.',\n",
       " 'I first tried buying this tape from a Marketplace seller.',\n",
       " 'I sent it back because the tape quality was poor and the packaging looked unprofessional.',\n",
       " 'After returning it I bought one from Amazon proper and.',\n",
       " 'it was the same quality tape and the same packaging.',\n",
       " 'Since Im now sure this is not a bootleg tape, all I can say is.',\n",
       " 'some videos are better than others.',\n",
       " 'Classic drawing room comedy, period piece.',\n",
       " 'Cleverly written in a time when the audience needed a bit of a nudge to figure out each character.',\n",
       " 'Each persons name describes how you should feel about each Charming idea from the 1700s.',\n",
       " 'If youve never had a chance to see one of these comedies, take a look.',\n",
       " 'This is a famous play and well done.',\n",
       " 'Must see for theatre students.',\n",
       " 'This CD compilation set was purchased for me.',\n",
       " 'I love the 80s, and they chose great songs.',\n",
       " 'The songs are not performed by the original artists.',\n",
       " 'Instead, theyre poorly covered by the Starlite Singers.',\n",
       " 'I should have read the prior reviews of this record before buying it.',\n",
       " 'Although it appears to be a collection of new wave singles from the 80s, these are just cover versions sung by the Starlite Singers.',\n",
       " 'The description of the record says that it is by various artists implying that they are by the original artists, but this is not true.',\n",
       " 'Total garbage.',\n",
       " 'The one bright spot is that I got a prompt refund when I returned it.',\n",
       " 'I bought this set last November and just now decided to listen to the CDs.',\n",
       " 'Nowhere in the description on Amazon does it say not the original artists In fact, it says various artists, which is deceiving because only one group performs all the songs.',\n",
       " 'It leads one to believe original artists when it says various artists because it is, after all, a compilation of music by various artists Duh So, dont waste your money.',\n",
       " 'I will probably throw these in the trash as Im a purist and I want original, not wedding reception music.',\n",
       " 'This is one of those cheesy compilations where they find session bands and similar sounding artists to sing the songs.',\n",
       " 'These are NOT ORIGINAL SONGS BY THE ARTISTS.',\n",
       " 'If you loved KTEL CDs and dont care about hearing the artists originals, and dont care about cheap sounding synthesizers playing the music or that fact that some of the vocalists are pretty bad, then you might like this cd.',\n",
       " 'But if you are a fan of the 80s and the amazing music it produced, then buy other collections and dont waste your money on this schlock.',\n",
       " 'Performance is outstanding.',\n",
       " 'I had a previous Sony 8 mm Handycam which died and I replaced it with this camera so I could continue to playback my old 8 mm tapes.',\n",
       " 'This camera performs faster and is simpler to use than my old Sony.',\n",
       " 'It does everything I need and does it well.',\n",
       " 'I got a great deal.',\n",
       " 'Bought this camera for Christmas.',\n",
       " 'Had her open it first so she could film the nights party  NO TAPES ARE INCLUDED Of course all stores are closed Christmas day so the thing is USELESS until the day after.',\n",
       " 'Shame on Sony.',\n",
       " 'How much would a tape included in the packace cost them  Not included Battery chargers are.',\n",
       " 'Although all of Mr Hines work is high quality, Waving Not Drowning for me is the highlight of the 3 AM projects.',\n",
       " 'The song Curious Kind is simply a masterpieceThe remastering is of the quality you have come to expect from one of Rocks greatest producers, song writers, and performers.',\n",
       " 'GET IT.',\n",
       " 'This book never really seems to get going.',\n",
       " 'There is too much time spent in the courtroom while basic questions about the crime and the suspectdefendant are left unasked.',\n",
       " 'After 200 pages, I realized that this book wasnt going to pick up or reveal any crucial information to make sense out of things until the very end.',\n",
       " 'As a result, the whole story rapped up very quickly in an unbelievable way and you are left wondering why no one could figure anything out earlier.',\n",
       " 'Based on the ending, the detectives and attorneys appear rather incompetent.',\n",
       " 'I did enjoy parts of the book, however, and I think the plot needs to be unfolded at a different rate not so slow in the beginning and not so fast at the end.',\n",
       " 'I am a McBain fan and think that some of his other books are better written.',\n",
       " 'I knew there was something missing from the first book when I read it, because it didnt match what I heard her say years ago when she came to my church to speak.',\n",
       " 'Now I know, the abuse was so difficult for her to talk about even when she wrote a book about it.',\n",
       " 'Later, with the help of a trusted friend, she was able to tell the most difficult and abusive parts of her childhood experience.',\n",
       " 'This what the second book is about.',\n",
       " 'The most wonderful thing about Dorie, is that she is able to forgive her abusers and move on with her life.',\n",
       " 'She is still able to have a successful and happy life, in spite of the horrendous abuse of her childhood.',\n",
       " 'This is what so many women need to hear.',\n",
       " 'With the Lords help, it is possible.',\n",
       " 'I didnt refer to Baseball America as such.',\n",
       " 'It was Cardinals GM Walt Jocketty who said it.',\n",
       " 'And who am I to contradict The best columnists in the game, from Peter Gammons, Tracy Ringolsby and Jayson Stark, to detailed information in ALL of baseball, from the Major Leagues to Japan, stats, scores, and the best and most extensive resource on prospect information, theres not a single serious fan in all of baseball who deserves such a title if is not a Baseball America subscriber.',\n",
       " 'You got to read it if you want to know the stars of tomorrow being tomorrow 6 years or 2 months.',\n",
       " 'Top 10 prospects from every team till its massive Top 100 list, Baseball America covers it all.',\n",
       " 'I know, I have been subscribed for 2 years now, and I cant think of living without it.',\n",
       " 'I have read Baseball America off and on over the years and finally took the plunge and got a subscription.',\n",
       " 'This is the best place to get coverage of the minors, college, and high school baseball so you know about the top prospects before others do.',\n",
       " 'An embarassment.',\n",
       " 'Steer clear of this one folks.',\n",
       " 'Just when you thought these guys were the last real fusion types about.',\n",
       " 'Since when did the last great secret of the fusion world start taking pointers from Joe Satriani and listening to old Al DiMeola pratice sessions Where the hell is Phil when you need him, oh yes, Tarzan.',\n",
       " 'The star is for the Bruford and WildingBonus tracks, and well does one really want those.',\n",
       " 'I read Trouble on Titan around 1970, when the Apollo program was at its apex, and the human exploration of the Solar System seemed only a short step away.',\n",
       " 'My review is based on old memories, but I can still remember a mining colony on Titan and jet craft using oxygen for fuel and burning Titans methane atmosphere.',\n",
       " 'Weve learned much since this book was written, and Titans atmosphere has less methane than we originally thought.',\n",
       " 'However, this book was well written, and I am sure will intrigue my son as much as it intrigued his father, who is now working at NASA on the CassiniHuygens mission to Saturn and Titan.',\n",
       " 'This book has that oldstyle scifi flavor that made another world seem more like reality than fantasy.',\n",
       " 'I think if you enjoyed the Lucky Starr and David Starr stories by Asimov, you will enjoy Trouble on Titan.',\n",
       " 'We got these as a gift for our one year old.',\n",
       " 'He loves them He tries very hard to get all the little things out of the blocks  and obviously fails.',\n",
       " 'He loves that some of them move, some of them jiggle, some of them make noise  its almost an adventureThe three year old also loves them because they incorporate the alphabet and he can easily identify the items inside B  Banana, P  Penguin, U  Umbrella, Z  Zebra.',\n",
       " 'Bonus  when the 1 yo gets frustrated because he cant pry the items out of the block no matter how hard he tries, he usually flings them.',\n",
       " 'The 3 yo tends to use them to build walls or towers for the sole purpose of smashing another toy into them, or dropping them off high places.',\n",
       " 'And Ive stepped on two of them already.',\n",
       " 'They seem to tolerate this treatment rather well.',\n",
       " 'These Alphabet blocks are so beautiful they could be classed as works of art or collectors items.',\n",
       " 'I have purchased two seys as gifts and will probably buy more,.',\n",
       " 'I purchased the Alphabet blocks for my twin daughters.',\n",
       " 'They are just over 8 months old and they love them.',\n",
       " 'This product is a great learning tool for them for years to come but for now it a great teething toy I would recommend this to anyone, plus I love Fisher Price.',\n",
       " 'We got these after seeing the Incrediblocks in the FP Catalog.',\n",
       " 'There are little to no pizazz to the blocks.',\n",
       " 'Some have features where you can spin them like the letter Q  Queen or the W watermelon seeds that rattle  but most are just a look at me type of a block.',\n",
       " 'With that in mind  yes I like the product.',\n",
       " 'Theyre blocks.',\n",
       " 'Theyre meant for stacking, knocking over and banging  which my son loves hes had these since he was 6 months.',\n",
       " 'Theyre better than the plain wooden blocks because theyre textured, they have objects inside, letters  lots of opportunities to learn letters, colors, objects, descriptions, etc.',\n",
       " 'For now hes stacking, banging and knocking over.',\n",
       " 'Itll be around for a while until hes ready to learn more words, colors, objects, animals.',\n",
       " 'This review isnt profound or eye openings because again  theyre just blocks.',\n",
       " 'Keep that in mind when making your purchasing decision.',\n",
       " 'It will not make your child an overnight rocket scientist.',\n",
       " 'I bought these for two reasons blocks and educational letters.',\n",
       " 'However, the letters are rubbing off.',\n",
       " 'For the price I paid that was dissapointing.',\n",
       " 'Other than that I love the concept and the objects inside are fun.',\n",
       " 'Although I felt it looked a bit chinsy, the mother had it on her wish list and was very happy to receive them.',\n",
       " 'My daughter loves her blocks.',\n",
       " 'She will get them all out and look at each one until she finds her favorite.',\n",
       " 'She likes to shake them and see what each one does.',\n",
       " 'These are cute little blocks that have hours of imaginative playtime inside.',\n",
       " 'They also have blunt corners, so no sharp edges like wood blocks for the safety of smaller children.',\n",
       " 'The fact that they have the letters of the alphabet and a corresponding object inside makes them a great learning tool even for older tots.',\n",
       " 'We have really enjoyed these and recommend them to our friends.',\n",
       " 'THIS TOY WAS OUR GRANDSONS FAVORITE, SO I JUST HAD TO FIND IT AGAIN FOR OUR NEWEST GRANDCHILD.',\n",
       " 'THANK GOODNESS FOR ONLINE SHOPPING.',\n",
       " 'My little boy is just getting interested in these blocks.',\n",
       " 'They are too cute Hes learning to manipulate the block in his hands.',\n",
       " 'The little things inside the blocks are adorable.',\n",
       " 'Some spin, some twirl, some rock.',\n",
       " 'A definate upgrade from the standard wooden blocks.',\n",
       " 'This set incorporates a lot of the favorites from other sets packaged in an A to Z learning format.',\n",
       " 'I have been leary of purchasing too many of these blocks for storage reasons so the zippered case is a great bonus.',\n",
       " 'Definitely worth every penny.',\n",
       " 'These are great blocks but they are definitely not worth the listed 79.',\n",
       " '99.',\n",
       " 'They can be purchsed for about 20 many other places.',\n",
       " 'This is a great set of blocks.',\n",
       " 'I researched different blocks for some time and found these to be the most durable, age and developmentallyappropriate, and highlyeducational.',\n",
       " '25 bucks may seem like a lot, but I think it is well worth it.',\n",
       " 'I am very impressed with the quality.',\n",
       " 'The size and shape of the blocks is just right.',\n",
       " 'My son is 5months old and he is able to hold the blocks perfectly in his little hands.',\n",
       " 'PLUS, the blocks do not have sharp corners like the wooden blocks also available on this site that could hurt your little one especially those of you with chewers.',\n",
       " 'One category that I rated this toy with only a 4 instead of 5 is the fun factor.',\n",
       " 'For younger babies that may not get it yet, this toy may not be as fun for them until they are a little bit older.',\n",
       " 'My son is not yet able to fully comprehend that there are even toys inside the blocks, but then again he is only 5 months.',\n",
       " 'Give him a couple of months and hell really dig them.',\n",
       " 'this is not waterproof.',\n",
       " 'its GARBAGE where batteries go in broke,while trying to adj.',\n",
       " 'DO NOT BUY.',\n",
       " 'you turn the end to control it,that loosens the battery cover where water gets in so how is it waterproff.',\n",
       " 'The California Exotics Waterproof Delights Blue Ballsy,is to spice up the relationship and it worked since the beginning,my other half likes it.',\n",
       " 'It is very small compared to what i thought it would be, but even so it didnt work when we got it.',\n",
       " 'Whale naturalist and animal communicator Mary Getten goes beyond what other research has achieved in the way of whale study and communication processes in 1991 she studied the JPod, a family of whales off Washington State.',\n",
       " 'Her contention that they use direct telepathic communication between themselves and can do so with humans also makes for fascinating reading.',\n",
       " 'Diane C. DonovanCalifornia Bookwatch.',\n",
       " 'I purchased these for a Halloween party, and then.',\n",
       " 'like a dummy, I forgot to put them up Nevertheless, I did hold them up around the house in search of a good place to hang them.',\n",
       " 'Theyre pretty big and look really cool.',\n",
       " 'Id say theres a little bit of educational value too, as you can teach your children about the actual pictures theyre depicting.',\n",
       " 'Even though I forgot to hang them up, I really liked these scene setters and Ill be using them next year.',\n",
       " 'While I believe in discrimination, I certainly cant believe what is in this book.',\n",
       " 'It is an unsubstantiated smear campaign to rally the troups in higher ed to claw again for the preservation of academic freedom a rally which falls flat.',\n",
       " 'Molly Myers, in her review of My Name is Rachel Corrie, describes the ISM as an organization dedicated to nonviolence.',\n",
       " 'This is radical leftwing propaganda ISM offices have regularly been used to hide terrorists and their weapons, ISM pacifists regularly throw rocks at IDF soldiers, and theyre perfectly willing to use violence in order to sabotage the wall intended to keep innocent Palestinians from murdering Israelis.',\n",
       " 'So please disregard Mollys reviews they are biased in the extreme.',\n",
       " 'Four pages of the book was missing.',\n",
       " 'It just happened to be the formulas that my husband needed.',\n",
       " 'Fortunately he was able to copy our friends book.',\n",
       " 'But I will hesitate to buy another book like this again.',\n",
       " 'The official Chrono Trigger OST has 3 discs.',\n",
       " 'This version has some of the major tracks on it, the audio quality is good, but Caveat Emptor buyer beware this is a Chinese knockoff.',\n",
       " 'Oh and if you buy the 3 disc version, make sure the cover does not have a green and red logo reading FX, for this is also a counterfeit.',\n",
       " 'The serial numbers on the real soundtrack CDs are PSCN5021, PSCN5022, and PSCN5023.',\n",
       " 'These are the handful of tracks we hear over and over again.',\n",
       " 'Its far from complete though.',\n",
       " 'Missing such memorable tracks as sealed Door, wings across time or At the Bottom of the Night.',\n",
       " 'It doesnt have a single battle theme accept the final boss.',\n",
       " 'Hell this doesnt even have Luccas theme and shes on the coverHad I seen a tracklist beforehand I wouldnt have bought this.',\n",
       " 'I blame my self for not being more curious of the number of CDs.',\n",
       " 'Im sorry I paid 35 dollars American for this travesty, may Lavos have mercy on my soul.',\n",
       " 'Save your selvesand your money while you still can.',\n",
       " 'I watched this last night.',\n",
       " 'And I dont remember enough of it to give it a indepth review.',\n",
       " 'But it wasnt as bad as people are letting on nor was it as great as people are letting on.',\n",
       " 'If you dont like your killer to be supernatural then dont bother with this.',\n",
       " 'Its about a guy that comes back from the dead.',\n",
       " 'His whole storyline is kinda silly and there are plot holes all over the place.',\n",
       " 'The acting wasnt bad at all, and neither were the deaths.',\n",
       " 'In fact it was kinda gory.',\n",
       " 'But that doesnt make a great movie.',\n",
       " 'The flashbacks were a little confusing as well.',\n",
       " 'I wouldnt watch it again.',\n",
       " 'But its far from the worst movie Ive seen.',\n",
       " 'I initially bought the movie just because Stephen Colletti who Im in love with was one of the leads.',\n",
       " 'and I really didnt expect much from what looks to be a lowbudget indie horror flick.',\n",
       " 'But, I really did like it The lead girl who plays Jennifer Nikki DeLoach is really good.',\n",
       " 'I cant believe Ive never seen her in anything before Maybe I have, but I didnt know It was cool to see the guy from Weekend at Bernies Terry Kiser.',\n",
       " 'he is a really good actor.',\n",
       " 'Too bad he was dead the whole time in both movies I saw him in, lol.',\n",
       " 'Anyways, this was a cool movie and Im glad I got it.',\n",
       " 'It was good horrifying never a dull moment u can watch and not be bored ir wondering when is a good part coming.',\n",
       " 'I liked the film it has what every horror likes in this type of movie the suspense,mystery,good and bad times,plus a shocking ending that makes you think that there is more to story, and plot was very good Robert.',\n",
       " 'This movie was a horror film thhat displayed an effort to steer clear of typical horror movie dialogue and pacing.',\n",
       " 'There are no blonde girls and the girls that are here dont trip over the tree roots in the yard.',\n",
       " 'Now a white girl did fall and twist her knee in the movie but guess what It was not on a tree root.',\n",
       " 'MASK MAKER takes us down a cinematic path often traveled and does it in a typically predictable fashion.',\n",
       " 'A story of revenge with an unstoppable killer who murders his victims and uses their skinned faces to achieve some kind of beauty.',\n",
       " 'Flashbacks reveal his motivation in an attempt to elicit some level of sympathy.',\n",
       " 'MASK MAKER isnt the worst entry in this familiar territory but it doesnt tread new waters either.',\n",
       " 'The cast performs on various levels of competence.',\n",
       " 'WEEKEND AT BERNIEs Terry Kiser is an effective guiltridden buffoon.',\n",
       " 'Treat Williams is illused in a cameo role.',\n",
       " 'Horror vet Michael Berryman is unusually restrained in a small role.',\n",
       " 'Nikki Deloach is no Jamie Lee Curtis in her leading role, giving a weak performance in a typical survivor role as the resilient resourceful female.',\n",
       " 'Doomed fiance Stephen Colletti sic is equally flaccid.',\n",
       " 'An openended finale paves the way for MASK MAKER IIsomething we definitely dont need.',\n",
       " 'Sadly, there is absolutely nothing original in this movie.',\n",
       " 'The filmmakers shamelessly borrowed from practically everyone, turning out a stale formula piece that is purely by the numbers.',\n",
       " 'I couldnt find a thing that elevated this movie above a 100 other like films.',\n",
       " 'The plot is standard a group of kids spend the weekend at an old house with a bad history.',\n",
       " 'A standard, run of the mill maniac kills them in unimaginative ways and of course no one notices until its too late.',\n",
       " 'Everything happens exactly on cue, in order, with no surprises, and no frights.',\n",
       " 'This movie is safe and boring, it really couldnt have been any better if it tried.',\n",
       " 'Not even the brief appearance of horror icon Michael Berryman playing a nice guy for a change can help the dullness of the script.',\n",
       " 'Even the title is a misnomer Although the original title, Maskerade, isnt any better.',\n",
       " 'And I had such high hopes as this is one of my favorite genres.',\n",
       " 'This book was in my librarys Genealogy section, and youre not allowed to take Genealogy books out of the library.',\n",
       " 'But I liked it enough to sit in the library and read it, in two sittings.',\n",
       " 'This a quick read, because it has loads of pictures photos of the ghetto and its inhabitants, and also pictures of artifacts such as ration cards, work certificates, yellow stars, etc.',\n",
       " 'Its more like a museum exhibit than a simple book.',\n",
       " 'Because of the format I think young people would be able to get something out of the book too, although it is clearly written for adults.',\n",
       " 'Certainly it probably has the most information on the KovnoKaunas ghetto all in one place.',\n",
       " 'Both researchers and the ordinary person interested in the Holocaust would enjoy this.',\n",
       " 'Bonus pages from the diary of Ilya Gerber are printed in this book you can read extracts from the diary in Alexandra ZaprudersSalvaged Pages Young Writers Diaries of the Holocaust.',\n",
       " 'This is an excellent book to have as a reference fo eastern methodologies in medicine and healing.',\n",
       " 'Unfortunately it is long out of print, but if you can get your hands on a copy of this text, you will not be dissappointed.',\n",
       " 'In fact, if you are unhappy with it, I will be happy to purchase it from you as I have many peers that would happily use it.',\n",
       " 'As someone who has been practicing Chinese Medicine for 16 years in San Diego www.',\n",
       " 'bodymindwellnesscenter.',\n",
       " 'com, I find this book an excellent resource for anyone who wants and in dept primer into the theoretical basis and practical application of a system of medicine that originates in the Chinese philosophy that emphasizes the natural balance found in Nature and agriculture.',\n",
       " 'This book is great.',\n",
       " 'It is very informative.',\n",
       " 'It is easy to read and understand and has alot of pictures.',\n",
       " 'i would recommend this book for any one wanting to learn about Chinese Medicine.',\n",
       " 'This games makes even amazing games like starcraft and warcraft redundant.',\n",
       " 'Warhammer has it all and does it better than anyone else.',\n",
       " 'Truly great game, total fun, great combat, graphics, races, units, a pleasure to play.',\n",
       " 'With all due respect to ambient music enthusiasts, I was really disappointed that there was no guitar work whatsoever on this album.',\n",
       " 'Hillage fans of L and Fish Rising be forewarned.',\n",
       " 'Steve Hillage was a pretty darn good guitarist.',\n",
       " 'Maybe L was his showcase with members of Todd Rundgrens Utopia backing him up.',\n",
       " 'Noting that other reviewers have rated this highly, I will give it another listen.',\n",
       " 'However, I am dissapointed in the direction Steve has taken his music.',\n",
       " 'You get what you pay for.',\n",
       " 'This pillow is stiff and smelled like drying paint for 4 days.',\n",
       " 'I thought I was getting a non name brand version of the Temperpedic pillow.',\n",
       " 'I bought the real pillow for my mother years ago and paid many times the price.',\n",
       " 'This thing doesnt even come close.',\n",
       " 'This was a joke.',\n",
       " 'I am sending the pillow back.',\n",
       " 'Does not come close to what was advertised.',\n",
       " 'I believe the cardboard box that it arrived in would have been softer under my head.',\n",
       " 'I am giving it one star just so I can post this.',\n",
       " 'I only wish the stars could go negative.',\n",
       " 'The pillow is tiny and poor quality foam, my pillow I was replacing was at least a year and a half old and it preforms better than this one did new.',\n",
       " 'How is this thing awful let me count the ways.',\n",
       " 'First off, it took an unatural amount of time to get here.',\n",
       " 'Whatever, that happens.',\n",
       " 'It feels super cheap.',\n",
       " 'When you handle a good memory foam pillow, it feels heavy and cushy in your hands.',\n",
       " 'This thing feels like a piece of hard styrofoam.',\n",
       " 'It barely squishes at all and has no memory, it is simply a very dense foam pillow.',\n",
       " 'Its not even really a pillow Its so hard that I cant even use it for propping my back whilst reading.',\n",
       " 'On top of that, their terrible return pollicies make it not worth returning.',\n",
       " 'DO NOT BUY Just use the styrofoam your new computer came in.',\n",
       " 'Ugh.',\n",
       " 'It worked fine in the beginning.',\n",
       " '2 months or so into using it its performance was up in the air.',\n",
       " 'I would find myself sleeping with one hand under the pillow to give it some leverage otherwise my neck would end up in an awkward position.',\n",
       " 'At times it felt like I needed to have 2 pillows because it was lacking in width and was too soft.',\n",
       " 'I had to also rotate what end and what side I would lay my headneck on.',\n",
       " 'It, therefore, did not provide the support I needed.',\n",
       " 'The pillow I received is nothing like the one in the picture.',\n",
       " 'The pillow that I received is approx half the size in thickness as the one I received.',\n",
       " 'I am not happy with the seller Moshelles.',\n",
       " 'I will never purchase from this company ever again.',\n",
       " 'I am currently deployed Military and I feel that this company is very disrespectful and does not show its Military members the proper courtesy when dealing with such issues.',\n",
       " ...]"
      ]
     },
     "execution_count": 86,
     "metadata": {},
     "output_type": "execute_result"
    }
   ],
   "source": [
    "Sent_token"
   ]
  },
  {
   "cell_type": "code",
   "execution_count": null,
   "id": "74f1966e-0ba1-4c07-8f36-812917999262",
   "metadata": {},
   "outputs": [],
   "source": []
  },
  {
   "cell_type": "markdown",
   "id": "6fff23b5-36c9-4a40-961c-8145bd3201cc",
   "metadata": {},
   "source": [
    "#### Word Tokenizer"
   ]
  },
  {
   "cell_type": "code",
   "execution_count": 79,
   "id": "9c8882ee-db4a-42b7-a124-39910d13916f",
   "metadata": {},
   "outputs": [],
   "source": [
    "from gensim.utils import simple_preprocess"
   ]
  },
  {
   "cell_type": "code",
   "execution_count": 90,
   "id": "aaf4b07d-f56f-4015-a049-03ab8563d0cc",
   "metadata": {},
   "outputs": [],
   "source": [
    "all_words=[]\n",
    "for i in Sent_token:\n",
    "    all_words.append(simple_preprocess(i))"
   ]
  },
  {
   "cell_type": "code",
   "execution_count": 92,
   "id": "73101dc9-3ca1-42d3-a2fc-fbf286d03c7a",
   "metadata": {},
   "outputs": [
    {
     "data": {
      "text/plain": [
       "[['this',\n",
       "  'sound',\n",
       "  'track',\n",
       "  'was',\n",
       "  'beautiful',\n",
       "  'it',\n",
       "  'paints',\n",
       "  'the',\n",
       "  'senery',\n",
       "  'in',\n",
       "  'your',\n",
       "  'mind',\n",
       "  'so',\n",
       "  'well',\n",
       "  'would',\n",
       "  'recomend',\n",
       "  'it',\n",
       "  'even',\n",
       "  'to',\n",
       "  'people',\n",
       "  'who',\n",
       "  'hate',\n",
       "  'vid'],\n",
       " ['game',\n",
       "  'music',\n",
       "  'have',\n",
       "  'played',\n",
       "  'the',\n",
       "  'game',\n",
       "  'chrono',\n",
       "  'cross',\n",
       "  'but',\n",
       "  'out',\n",
       "  'of',\n",
       "  'all',\n",
       "  'of',\n",
       "  'the',\n",
       "  'games',\n",
       "  'have',\n",
       "  'ever',\n",
       "  'played',\n",
       "  'it',\n",
       "  'has',\n",
       "  'the',\n",
       "  'best',\n",
       "  'music',\n",
       "  'it',\n",
       "  'backs',\n",
       "  'away',\n",
       "  'from',\n",
       "  'crude',\n",
       "  'keyboarding',\n",
       "  'and',\n",
       "  'takes',\n",
       "  'fresher',\n",
       "  'step',\n",
       "  'with',\n",
       "  'grate',\n",
       "  'guitars',\n",
       "  'and',\n",
       "  'soulful',\n",
       "  'orchestras'],\n",
       " ['it', 'would', 'impress', 'anyone', 'who', 'cares', 'to', 'listen'],\n",
       " ['im',\n",
       "  'reading',\n",
       "  'lot',\n",
       "  'of',\n",
       "  'reviews',\n",
       "  'saying',\n",
       "  'that',\n",
       "  'this',\n",
       "  'is',\n",
       "  'the',\n",
       "  'best',\n",
       "  'game',\n",
       "  'soundtrack',\n",
       "  'and',\n",
       "  'figured',\n",
       "  'that',\n",
       "  'id',\n",
       "  'write',\n",
       "  'review',\n",
       "  'to',\n",
       "  'disagree',\n",
       "  'bit'],\n",
       " ['this',\n",
       "  'in',\n",
       "  'my',\n",
       "  'opinino',\n",
       "  'is',\n",
       "  'yasunori',\n",
       "  'mitsudas',\n",
       "  'ultimate',\n",
       "  'masterpiece']]"
      ]
     },
     "execution_count": 92,
     "metadata": {},
     "output_type": "execute_result"
    }
   ],
   "source": [
    "all_words[:5]"
   ]
  },
  {
   "cell_type": "markdown",
   "id": "acfcd2a0-6296-4bb3-9e6c-f6601b347866",
   "metadata": {},
   "source": [
    "##### Removing Stopwords"
   ]
  },
  {
   "cell_type": "code",
   "execution_count": 131,
   "id": "6b29491b-e28a-466e-a021-662e81388513",
   "metadata": {},
   "outputs": [],
   "source": [
    "from nltk.corpus import stopwords\n",
    "stopwords=set(stopwords.words(\"english\"))"
   ]
  },
  {
   "cell_type": "code",
   "execution_count": 102,
   "id": "52a63a79-ad36-4e20-b9e3-32d669017dd2",
   "metadata": {},
   "outputs": [
    {
     "data": {
      "text/plain": [
       "['i', 'me', 'my', 'myself', 'we', 'our', 'ours', 'ourselves', 'you', \"you're\"]"
      ]
     },
     "execution_count": 102,
     "metadata": {},
     "output_type": "execute_result"
    }
   ],
   "source": [
    "stopwords[:10]"
   ]
  },
  {
   "cell_type": "code",
   "execution_count": 137,
   "id": "e981efe1-6d38-4e8f-a5e8-6bc8d4ff535d",
   "metadata": {},
   "outputs": [
    {
     "name": "stdout",
     "output_type": "stream",
     "text": [
      "[['this', 'sound', 'track', 'was', 'beautiful', 'it', 'paints', 'the', 'senery', 'in', 'your', 'mind', 'so', 'well', 'would', 'recomend', 'it', 'even', 'to', 'people', 'who', 'hate', 'vid'], ['game', 'music', 'have', 'played', 'the', 'game', 'chrono', 'cross', 'but', 'out', 'of', 'all', 'of', 'the', 'games', 'have', 'ever', 'played', 'it', 'has', 'the', 'best', 'music', 'it', 'backs', 'away', 'from', 'crude', 'keyboarding', 'and', 'takes', 'fresher', 'step', 'with', 'grate', 'guitars', 'and', 'soulful', 'orchestras']]\n"
     ]
    }
   ],
   "source": [
    "print(all_words[:2])"
   ]
  },
  {
   "cell_type": "code",
   "execution_count": 133,
   "id": "33b8f887-ba42-441d-814e-92a8d9703dff",
   "metadata": {},
   "outputs": [],
   "source": [
    "#Function to remove Stopwords\n",
    "def remove_stopwords(text):\n",
    "    new_text=[]\n",
    "    for word in text:\n",
    "        if word not in stopwords:\n",
    "            new_text.append(word.strip())\n",
    "        else:\n",
    "            pass\n",
    "    return new_text"
   ]
  },
  {
   "cell_type": "code",
   "execution_count": 138,
   "id": "20974e33-3876-4f8b-b8d3-22285ef6a64a",
   "metadata": {},
   "outputs": [],
   "source": [
    "#Calling the function to remove stops words\n",
    "words=[]\n",
    "for swords in all_words:\n",
    "    words.append(remove_stopwords(swords))"
   ]
  },
  {
   "cell_type": "code",
   "execution_count": 140,
   "id": "0a43ae70-d10e-489f-aa17-9c112ab15065",
   "metadata": {},
   "outputs": [
    {
     "name": "stdout",
     "output_type": "stream",
     "text": [
      "[['sound', 'track', 'beautiful', 'paints', 'senery', 'mind', 'well', 'would', 'recomend', 'even', 'people', 'hate', 'vid'], ['game', 'music', 'played', 'game', 'chrono', 'cross', 'games', 'ever', 'played', 'best', 'music', 'backs', 'away', 'crude', 'keyboarding', 'takes', 'fresher', 'step', 'grate', 'guitars', 'soulful', 'orchestras']]\n"
     ]
    }
   ],
   "source": [
    "print(words[:2])"
   ]
  },
  {
   "cell_type": "code",
   "execution_count": null,
   "id": "63ea1039-b62f-4e4c-aeb9-420963f929b5",
   "metadata": {},
   "outputs": [],
   "source": []
  },
  {
   "cell_type": "markdown",
   "id": "78e0304b-6c6c-4cc1-b38c-98c7c5d878ab",
   "metadata": {},
   "source": [
    "#### Creating the Custome Word2Vec model"
   ]
  },
  {
   "cell_type": "code",
   "execution_count": 238,
   "id": "1527cabf-5e9a-4e22-a779-075f31de78fe",
   "metadata": {},
   "outputs": [],
   "source": [
    "import gensim\n",
    "custom_model=gensim.models.Word2Vec(window=20,min_count=6,vector_size=250)  #creating model object with required parameters"
   ]
  },
  {
   "cell_type": "code",
   "execution_count": 246,
   "id": "8eea70e2-9ca1-426d-94cb-099dc03a87f7",
   "metadata": {},
   "outputs": [],
   "source": [
    "custom_model=gensim.models.Word2Vec(window=20,min_count=6,vector_size=250,sg=1)"
   ]
  },
  {
   "cell_type": "code",
   "execution_count": 247,
   "id": "bb1dc4a6-0d0e-4809-b03d-c2865a7ba4da",
   "metadata": {},
   "outputs": [],
   "source": [
    "custom_model.build_vocab(words)  #Building Vocabulary and loading the dataset"
   ]
  },
  {
   "cell_type": "code",
   "execution_count": 248,
   "id": "eb75ea36-ea62-4b31-b656-218f95e7d3fc",
   "metadata": {},
   "outputs": [
    {
     "data": {
      "text/plain": [
       "494461"
      ]
     },
     "execution_count": 248,
     "metadata": {},
     "output_type": "execute_result"
    }
   ],
   "source": [
    "custom_model.corpus_count  #Number of sentence in the corpus"
   ]
  },
  {
   "cell_type": "code",
   "execution_count": 249,
   "id": "ff49b853-9b15-4585-96e5-3418a7f0a9dc",
   "metadata": {},
   "outputs": [
    {
     "data": {
      "text/plain": [
       "5"
      ]
     },
     "execution_count": 249,
     "metadata": {},
     "output_type": "execute_result"
    }
   ],
   "source": [
    "custom_model.epochs  #Number of Ecphocs on which our NN will train"
   ]
  },
  {
   "cell_type": "code",
   "execution_count": 250,
   "id": "07458828-31c8-4b0c-b050-305a05629aa2",
   "metadata": {},
   "outputs": [
    {
     "data": {
      "text/plain": [
       "3803675"
      ]
     },
     "execution_count": 250,
     "metadata": {},
     "output_type": "execute_result"
    }
   ],
   "source": [
    "custom_model.corpus_total_words   #Total words in our corpus"
   ]
  },
  {
   "cell_type": "code",
   "execution_count": 251,
   "id": "f5c7b797-ea94-44f1-abb1-2f4a436a6a85",
   "metadata": {},
   "outputs": [
    {
     "data": {
      "text/plain": [
       "6"
      ]
     },
     "execution_count": 251,
     "metadata": {},
     "output_type": "execute_result"
    }
   ],
   "source": [
    "custom_model.min_count   #Sentence below this much words will be ingnored"
   ]
  },
  {
   "cell_type": "code",
   "execution_count": 252,
   "id": "aca000a5-8eb2-4f00-86ba-98300535ac42",
   "metadata": {},
   "outputs": [
    {
     "data": {
      "text/plain": [
       "(17390008, 19018375)"
      ]
     },
     "execution_count": 252,
     "metadata": {},
     "output_type": "execute_result"
    }
   ],
   "source": [
    "custom_model.train(words,total_examples=custom_model.corpus_count, epochs=5)  #Training our custom model"
   ]
  },
  {
   "cell_type": "code",
   "execution_count": 253,
   "id": "189d6705-c63d-439d-815b-75811ec836e2",
   "metadata": {},
   "outputs": [
    {
     "data": {
      "text/plain": [
       "0.5095246"
      ]
     },
     "execution_count": 253,
     "metadata": {},
     "output_type": "execute_result"
    }
   ],
   "source": [
    "custom_model.wv.similarity(\"good\", \"bad\")"
   ]
  },
  {
   "cell_type": "code",
   "execution_count": null,
   "id": "f04ed43c-a211-4cf7-b3ca-e8cdf93bd6c7",
   "metadata": {},
   "outputs": [],
   "source": [
    "#Model is performing much better in Skipgram campare to CBOW and I was getting 0.624566 value while using CBOW"
   ]
  },
  {
   "cell_type": "code",
   "execution_count": 254,
   "id": "a766eb2c-5776-4c3f-ab34-4c4cdc3f88d0",
   "metadata": {},
   "outputs": [
    {
     "data": {
      "text/plain": [
       "(250,)"
      ]
     },
     "execution_count": 254,
     "metadata": {},
     "output_type": "execute_result"
    }
   ],
   "source": [
    "custom_model.wv[\"better\"].shape"
   ]
  },
  {
   "cell_type": "code",
   "execution_count": 255,
   "id": "5d3d8ed6-3884-4110-87a9-2b31e2a28f1b",
   "metadata": {},
   "outputs": [
    {
     "data": {
      "text/plain": [
       "array([ 0.38735613, -0.30994084, -0.01071681, -0.3310429 , -0.30384848,\n",
       "        0.15639722,  0.20728886,  0.27947026,  0.1148459 ,  0.14544153,\n",
       "        0.06838704, -0.1089067 ,  0.11057479, -0.15184388, -0.1952356 ,\n",
       "        0.00329888, -0.0308364 , -0.00935772, -0.13712221,  0.23586725,\n",
       "        0.13757938, -0.26185516,  0.06160014,  0.1696411 , -0.25288606,\n",
       "        0.21828917,  0.10274084,  0.00065656, -0.3286248 , -0.21874264,\n",
       "       -0.21145612,  0.05782719, -0.11932296,  0.2661609 ,  0.00698628,\n",
       "       -0.2910825 ,  0.1520877 ,  0.14144659, -0.30389115, -0.1784999 ,\n",
       "        0.21841116,  0.14882146, -0.05124371,  0.05127208,  0.0458833 ,\n",
       "       -0.12213972,  0.1879009 ,  0.0028366 , -0.05477059,  0.23544218,\n",
       "       -0.19877253, -0.24260443,  0.3805899 , -0.06340658,  0.08820023,\n",
       "       -0.13680218, -0.19789065,  0.16757125, -0.40879416, -0.00379479,\n",
       "       -0.00823364, -0.14685051,  0.24138838, -0.03250899,  0.02060601,\n",
       "        0.07410947,  0.23598194, -0.1107132 ,  0.13294597, -0.09136944,\n",
       "        0.18228988, -0.05432024, -0.02762754,  0.11639441, -0.00446875,\n",
       "        0.02462864, -0.23756774, -0.16321787,  0.10985786,  0.16470365,\n",
       "        0.20000559,  0.23392218,  0.08595946,  0.24635535, -0.32685092,\n",
       "        0.26694128, -0.08670565,  0.41337046,  0.12603252, -0.21528482,\n",
       "        0.19916806, -0.06771185,  0.0193645 ,  0.23097962, -0.21980934,\n",
       "       -0.05410234,  0.00095539,  0.02665293,  0.4260838 , -0.25644773,\n",
       "       -0.05482338, -0.07642155, -0.2176082 ,  0.12624006,  0.06990906,\n",
       "       -0.00232541, -0.43353838,  0.3007701 , -0.10542424,  0.01100335,\n",
       "        0.07247155, -0.20545751, -0.02685219,  0.16999622, -0.09082776,\n",
       "       -0.06145497, -0.04820373, -0.08213778,  0.06281   , -0.16220735,\n",
       "        0.17062122,  0.17155948,  0.09245911, -0.2430628 , -0.03255519,\n",
       "        0.20266834, -0.21144702,  0.445551  ,  0.15371203,  0.28728142,\n",
       "        0.02116209,  0.15286818,  0.15778035,  0.07969511,  0.06508724,\n",
       "       -0.03290656,  0.06476448,  0.13836728, -0.38911927, -0.29731503,\n",
       "        0.00282359,  0.05900405, -0.07510764, -0.01750898,  0.08712643,\n",
       "       -0.1914965 ,  0.19691537,  0.10699342,  0.16920851,  0.16794151,\n",
       "       -0.18605462, -0.07452256,  0.02917458,  0.07393648, -0.00608476,\n",
       "       -0.18576558,  0.13989387,  0.14909847, -0.25847822, -0.247629  ,\n",
       "        0.0204171 , -0.47847512,  0.03615889, -0.2834974 ,  0.12792829,\n",
       "        0.16914295,  0.3983604 , -0.18063323, -0.05770517, -0.09045091,\n",
       "        0.10823733,  0.23645636,  0.05867084,  0.08228642, -0.21164984,\n",
       "       -0.10778493, -0.18156454,  0.2763174 ,  0.05210476, -0.41658577,\n",
       "       -0.24783747,  0.2128258 ,  0.3510099 , -0.13327868, -0.30376267,\n",
       "        0.0982798 , -0.24231042,  0.18685614, -0.10226282,  0.10607321,\n",
       "        0.59920126, -0.13763472,  0.02087951,  0.26795587,  0.207986  ,\n",
       "       -0.11421324, -0.01359708, -0.06360804, -0.01745459, -0.02666157,\n",
       "        0.12623763,  0.11430941, -0.04509864, -0.211251  , -0.08627988,\n",
       "       -0.17152226, -0.00672395,  0.00077967, -0.05883142, -0.12825373,\n",
       "       -0.21076229, -0.01727763, -0.04547942, -0.15991104, -0.06766361,\n",
       "        0.02628562,  0.01439849, -0.21671513,  0.21040289,  0.15286078,\n",
       "       -0.2300801 , -0.15266845,  0.28762147, -0.25497344, -0.0541087 ,\n",
       "       -0.23983702,  0.33747235,  0.18553913, -0.38050282,  0.34764874,\n",
       "       -0.283073  , -0.08367246,  0.04206745,  0.16924861,  0.04136698,\n",
       "        0.10441198,  0.25607863, -0.1108683 ,  0.0660563 , -0.2521383 ,\n",
       "        0.0052342 , -0.31007236,  0.13881375,  0.11051773,  0.40581498,\n",
       "       -0.11926805, -0.2254589 ,  0.02120795, -0.03780498,  0.27115268],\n",
       "      dtype=float32)"
      ]
     },
     "execution_count": 255,
     "metadata": {},
     "output_type": "execute_result"
    }
   ],
   "source": [
    "#Checking vector count\n",
    "custom_model.wv[\"excellent\"]"
   ]
  },
  {
   "cell_type": "code",
   "execution_count": 256,
   "id": "f5166d9c-17cf-4a50-aa20-d94b028c78c6",
   "metadata": {},
   "outputs": [
    {
     "data": {
      "text/plain": [
       "[('great', 0.6199621558189392),\n",
       " ('terrific', 0.6035700440406799),\n",
       " ('exceptional', 0.5933045148849487),\n",
       " ('fantastic', 0.5822237133979797),\n",
       " ('unbeatable', 0.5797416567802429),\n",
       " ('good', 0.5766756534576416),\n",
       " ('excellant', 0.5711928009986877),\n",
       " ('wonderful', 0.5697939395904541),\n",
       " ('excelent', 0.5639280676841736),\n",
       " ('outstanding', 0.559520959854126)]"
      ]
     },
     "execution_count": 256,
     "metadata": {},
     "output_type": "execute_result"
    }
   ],
   "source": [
    "#Checking similarities between the words\n",
    "custom_model.wv.most_similar(\"excellent\")"
   ]
  },
  {
   "cell_type": "code",
   "execution_count": 257,
   "id": "b2b3ede5-d712-4891-be48-e5cd8e72374a",
   "metadata": {},
   "outputs": [
    {
     "data": {
      "text/plain": [
       "[('item', 0.6993104219436646),\n",
       " ('products', 0.6467852592468262),\n",
       " ('plano', 0.6256691217422485),\n",
       " ('manufacturer', 0.6230894923210144),\n",
       " ('powerpack', 0.6229686737060547),\n",
       " ('vender', 0.6178304553031921),\n",
       " ('xantrex', 0.6109983325004578),\n",
       " ('macally', 0.6099713444709778),\n",
       " ('merchandise', 0.6074156761169434),\n",
       " ('wahl', 0.607117235660553)]"
      ]
     },
     "execution_count": 257,
     "metadata": {},
     "output_type": "execute_result"
    }
   ],
   "source": [
    "custom_model.wv.most_similar(\"product\")"
   ]
  },
  {
   "cell_type": "code",
   "execution_count": 258,
   "id": "e97a4bdd-bfff-47cd-ba05-238a0aec71d4",
   "metadata": {},
   "outputs": [
    {
     "data": {
      "text/plain": [
       "[('satisfied', 0.6092019081115723),\n",
       " ('unhappy', 0.5912299752235413),\n",
       " ('camper', 0.5666472911834717),\n",
       " ('pleased', 0.5649409890174866),\n",
       " ('treacle', 0.5311461091041565),\n",
       " ('pewter', 0.5141870975494385),\n",
       " ('dinnerware', 0.5134946703910828),\n",
       " ('iam', 0.508039653301239),\n",
       " ('previewed', 0.5009875297546387),\n",
       " ('glad', 0.4995478093624115)]"
      ]
     },
     "execution_count": 258,
     "metadata": {},
     "output_type": "execute_result"
    }
   ],
   "source": [
    "custom_model.wv.most_similar(\"happy\")"
   ]
  },
  {
   "cell_type": "code",
   "execution_count": 261,
   "id": "406b71df-c74e-4877-98ff-f587dbd138b6",
   "metadata": {},
   "outputs": [
    {
     "data": {
      "text/plain": [
       "'bad'"
      ]
     },
     "execution_count": 261,
     "metadata": {},
     "output_type": "execute_result"
    }
   ],
   "source": [
    "custom_model.wv.doesnt_match([\"happy\", \"good\",\"satisfied\",\"bad\"])"
   ]
  },
  {
   "cell_type": "markdown",
   "id": "d76a7e9b-cce0-4b8c-b8fb-c13a5c4d6d1c",
   "metadata": {},
   "source": [
    "As we can in the above example \"happy\", \"good\",\"satisfied\" comes with simiar meaning whereas \"bad\" comes with oppsosite meaning.\n",
    "This means that our model is working better."
   ]
  },
  {
   "cell_type": "code",
   "execution_count": null,
   "id": "e6e49fe2-6939-4fdb-8e54-e47a281c4406",
   "metadata": {},
   "outputs": [],
   "source": []
  },
  {
   "cell_type": "markdown",
   "id": "25adef21-a00d-4508-b4e6-675a5c67ccbc",
   "metadata": {},
   "source": [
    "###### Convert our model in Vectors for dimensionality reduction"
   ]
  },
  {
   "cell_type": "code",
   "execution_count": 263,
   "id": "d21fa003-f383-4588-b5c7-d2b4062bb84a",
   "metadata": {},
   "outputs": [],
   "source": [
    "word_vectors = custom_model.wv   #Extracts the trained word vectors and associated vocabulary from the custom_model"
   ]
  },
  {
   "cell_type": "code",
   "execution_count": 264,
   "id": "c0bf2580-63d4-44c7-abfd-b0d2d9d5e154",
   "metadata": {},
   "outputs": [],
   "source": [
    "vocab = list(word_vectors.index_to_key) #The index_to_key property contains the list of words (vocabulary) in the order of their indices in the embedding space.\n",
    "#Converts the vocabulary (list of words) into a Python list and assigns it to the variable vocab."
   ]
  },
  {
   "cell_type": "code",
   "execution_count": 265,
   "id": "4eca4fca-a225-41db-90e5-df0a496c84e7",
   "metadata": {},
   "outputs": [],
   "source": [
    "vectors = word_vectors[vocab] #Retrieves the word vectors for all the words in vocab.\n",
    "#The result is a matrix where each row corresponds to the vector representation of a word in the vocabulary."
   ]
  },
  {
   "cell_type": "code",
   "execution_count": 266,
   "id": "feaa0025-0a04-4f3d-a994-987d559f0133",
   "metadata": {},
   "outputs": [
    {
     "data": {
      "text/plain": [
       "array([[ 0.33289027, -0.10205277,  0.09710523, ...,  0.06199698,\n",
       "        -0.15948403, -0.04051875],\n",
       "       [ 0.27518272,  0.06731848, -0.15841433, ...,  0.00852705,\n",
       "        -0.13226694, -0.05614333],\n",
       "       [ 0.16014436,  0.0624276 , -0.09719335, ..., -0.320564  ,\n",
       "         0.04185737, -0.14084652],\n",
       "       ...,\n",
       "       [ 0.06937189,  0.05860297, -0.05895064, ..., -0.00471863,\n",
       "        -0.12239429,  0.03295623],\n",
       "       [ 0.1254802 ,  0.06343808, -0.08548405, ..., -0.00502818,\n",
       "        -0.07219871,  0.0310825 ],\n",
       "       [ 0.20193261, -0.1220669 , -0.00673551, ..., -0.07432092,\n",
       "        -0.04679795, -0.06022185]], dtype=float32)"
      ]
     },
     "execution_count": 266,
     "metadata": {},
     "output_type": "execute_result"
    }
   ],
   "source": [
    "vectors"
   ]
  },
  {
   "cell_type": "code",
   "execution_count": 267,
   "id": "eacdccc9-72d7-41df-aadc-7cc100077ede",
   "metadata": {},
   "outputs": [
    {
     "data": {
      "text/plain": [
       "(26735, 250)"
      ]
     },
     "execution_count": 267,
     "metadata": {},
     "output_type": "execute_result"
    }
   ],
   "source": [
    "vectors.shape"
   ]
  },
  {
   "cell_type": "markdown",
   "id": "c9862537-264a-468c-9cb1-84b27f35eb3a",
   "metadata": {},
   "source": [
    "#### Dimensionality reduction using PCA"
   ]
  },
  {
   "cell_type": "code",
   "execution_count": 268,
   "id": "7cb1f056-922f-43a5-b6e8-9d9d5bc242e5",
   "metadata": {},
   "outputs": [],
   "source": [
    "from sklearn.decomposition import PCA"
   ]
  },
  {
   "cell_type": "code",
   "execution_count": 269,
   "id": "292e8061-91ce-4906-a51b-640531b70ea7",
   "metadata": {},
   "outputs": [],
   "source": [
    "pca=PCA(n_components=2)  #creating object of PCA with 2 pc's"
   ]
  },
  {
   "cell_type": "code",
   "execution_count": 270,
   "id": "93508052-4961-446e-8d52-66a5e6eb6ed8",
   "metadata": {},
   "outputs": [],
   "source": [
    "pca.fit(vectors)\n",
    "reduced_data=pca.transform(vectors)  #fit_transform the model"
   ]
  },
  {
   "cell_type": "code",
   "execution_count": 272,
   "id": "32b9ceaf-da29-4834-9881-af1b6739117f",
   "metadata": {},
   "outputs": [
    {
     "name": "stdout",
     "output_type": "stream",
     "text": [
      "[[-0.24405658 -0.7932384 ]\n",
      " [ 0.29430282  0.22921509]\n",
      " [ 0.13806237  0.47869956]\n",
      " ...\n",
      " [-0.58504814 -0.32041243]\n",
      " [-0.3313911  -0.4402289 ]\n",
      " [ 0.7303897  -0.11835161]]\n"
     ]
    }
   ],
   "source": [
    "print(reduced_data)"
   ]
  },
  {
   "cell_type": "code",
   "execution_count": 273,
   "id": "a6c65057-ba63-4ed5-86f0-6894ef9bb012",
   "metadata": {},
   "outputs": [
    {
     "data": {
      "text/plain": [
       "(26735, 2)"
      ]
     },
     "execution_count": 273,
     "metadata": {},
     "output_type": "execute_result"
    }
   ],
   "source": [
    "reduced_data.shape"
   ]
  },
  {
   "cell_type": "markdown",
   "id": "87467b70-31cf-4846-8037-8fe4d518156d",
   "metadata": {},
   "source": [
    "We can see that our dimesionality has been reduced to 2 dimension from 250"
   ]
  },
  {
   "cell_type": "markdown",
   "id": "31cef908-48f8-4bfc-87ba-e486077d5bc1",
   "metadata": {},
   "source": [
    "##### Lets plot the data with 2d plot"
   ]
  },
  {
   "cell_type": "code",
   "execution_count": 274,
   "id": "a77cb4c3-4379-4cbb-b59f-69cb6a09fb6f",
   "metadata": {},
   "outputs": [],
   "source": [
    "import matplotlib.pyplot as plt"
   ]
  },
  {
   "cell_type": "code",
   "execution_count": 275,
   "id": "ca8ecfc0-b25c-40a5-b52d-35cc2cefddf6",
   "metadata": {},
   "outputs": [
    {
     "data": {
      "image/png": "[encoded data removed]",
      "text/plain": [
       "<Figure size 1000x1000 with 1 Axes>"
      ]
     },
     "metadata": {},
     "output_type": "display_data"
    }
   ],
   "source": [
    "plt.figure(figsize=(10, 10))\n",
    "for i, word in enumerate(vocab[:50]):  # Visualize only the first 50 words for clarity\n",
    "    plt.scatter(reduced_data[i, 0], reduced_data[i, 1])\n",
    "    plt.annotate(word, xy=(reduced_data[i, 0], reduced_data[i, 1]), fontsize=9)\n",
    "plt.title(\"2D PCA Projection of Word Vectors\")\n",
    "plt.show()"
   ]
  },
  {
   "cell_type": "code",
   "execution_count": null,
   "id": "805678f6-d582-44aa-b5e2-9d171f294bb7",
   "metadata": {},
   "outputs": [],
   "source": []
  },
  {
   "cell_type": "markdown",
   "id": "106fb955-ce41-425d-b283-685630a7dac2",
   "metadata": {},
   "source": [
    "### Graph Plot"
   ]
  },
  {
   "cell_type": "code",
   "execution_count": 276,
   "id": "88bd1c50-a1fe-4534-928d-b758687765f2",
   "metadata": {},
   "outputs": [],
   "source": [
    "import matplotlib.pyplot as plt\n",
    "import networkx as nx\n",
    "from sklearn.decomposition import PCA\n",
    "from gensim.models import Word2Vec"
   ]
  },
  {
   "cell_type": "code",
   "execution_count": 282,
   "id": "7f8e25c7-c5f9-4865-b95d-59c09d0122c8",
   "metadata": {},
   "outputs": [
    {
     "data": {
      "image/png": "[encoded data removed]",
      "text/plain": [
       "<Figure size 1200x1200 with 1 Axes>"
      ]
     },
     "metadata": {},
     "output_type": "display_data"
    }
   ],
   "source": [
    "G = nx.Graph()\n",
    "\n",
    "# Add nodes for each word\n",
    "for i, word in enumerate(vocab[:20]):\n",
    "    G.add_node(word, pos=(reduced_data[i, 0], reduced_data[i, 1]))\n",
    "\n",
    "# Optionally, add edges based on cosine similarity\n",
    "for i, word1 in enumerate(vocab[:20]):\n",
    "    for j, word2 in enumerate(vocab[:20]):\n",
    "        if i < j:  # Avoid duplicate edges\n",
    "            similarity = custom_model.wv.similarity(word1, word2)\n",
    "            if similarity > 0.5:  # Add edges only for high similarity\n",
    "                G.add_edge(word1, word2, weight=similarity)\n",
    "\n",
    "# Get positions for nodes\n",
    "pos = nx.get_node_attributes(G, 'pos')\n",
    "\n",
    "# Draw the graph\n",
    "plt.figure(figsize=(12, 12))\n",
    "nx.draw(\n",
    "    G, pos, with_labels=True, node_color='lightblue', edge_color='gray',\n",
    "    font_size=9, font_weight='bold', node_size=500, alpha=0.9\n",
    ")\n",
    "plt.title(\"Graph Plot of Word Vectors\")\n",
    "plt.show()"
   ]
  },
  {
   "cell_type": "code",
   "execution_count": null,
   "id": "2e6aed20-aa54-4336-aea7-315481aafa06",
   "metadata": {},
   "outputs": [],
   "source": []
  }
 ],
 "metadata": {
  "kernelspec": {
   "display_name": "Python 3 (ipykernel)",
   "language": "python",
   "name": "python3"
  },
  "language_info": {
   "codemirror_mode": {
    "name": "ipython",
    "version": 3
   },
   "file_extension": ".py",
   "mimetype": "text/x-python",
   "name": "python",
   "nbconvert_exporter": "python",
   "pygments_lexer": "ipython3",
   "version": "3.12.4"
  }
 },
 "nbformat": 4,
 "nbformat_minor": 5
}
